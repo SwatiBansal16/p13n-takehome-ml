{
 "cells": [
  {
   "cell_type": "markdown",
   "metadata": {},
   "source": [
    "## Summary\n",
    "\n",
    "The feature 'Click' is the target variable in this dataset. It can take 2 values 0 or 1, therefore, this is a binary classification problem. The independent features are related to time, site, app, device and other anonymized categorical features."
   ]
  },
  {
   "cell_type": "code",
   "execution_count": 1,
   "metadata": {},
   "outputs": [],
   "source": [
    "import warnings\n",
    "warnings.simplefilter('ignore')\n",
    "\n",
    "import pandas as pd\n",
    "import numpy as np\n",
    "%matplotlib inline\n",
    "import matplotlib.pyplot as plt\n",
    "from matplotlib.pyplot import figure"
   ]
  },
  {
   "cell_type": "markdown",
   "metadata": {},
   "source": [
    "## Importing Data"
   ]
  },
  {
   "cell_type": "code",
   "execution_count": 2,
   "metadata": {},
   "outputs": [],
   "source": [
    "train_data = pd.read_csv(\"sampled_training\", header = None, \n",
    "                   names = ['id', 'click', 'hour', 'C1', 'banner_pos', 'site_id', 'site_domain', 'site_category', 'app_id', 'app_domain', 'app_category', 'device_id', 'device_ip', 'device_model', 'device_type', 'device_conn_type', 'C14', 'C15', 'C16', 'C17', 'C18', 'C19', 'C20', 'C21'])\n",
    "\n",
    "test_data = pd.read_csv(\"sampled_test\", header = None, \n",
    "                   names = ['id', 'hour', 'C1', 'banner_pos', 'site_id', 'site_domain', 'site_category', 'app_id', 'app_domain', 'app_category', 'device_id', 'device_ip', 'device_model', 'device_type', 'device_conn_type', 'C14', 'C15', 'C16', 'C17', 'C18', 'C19', 'C20', 'C21'])"
   ]
  },
  {
   "cell_type": "markdown",
   "metadata": {},
   "source": [
    "## Understanding the Data\n",
    "-  The __head()__ function displays the first 5 rows and the columns. This helps in ensuring that the data was imported correctly.\n",
    "-  The __info()__ function shows that there are 843502 observations in the train dataset and 100000 observations in the test dataset. There are no missing values in both the datasets. The info() function also displays the datatype of the columns. Some of the columns have 'object' datatype.\n",
    "-  The __describe()__ function generates descriptive statistics like count, mean, standard deviation."
   ]
  },
  {
   "cell_type": "code",
   "execution_count": 3,
   "metadata": {},
   "outputs": [
    {
     "data": {
      "text/html": [
       "<div>\n",
       "<style scoped>\n",
       "    .dataframe tbody tr th:only-of-type {\n",
       "        vertical-align: middle;\n",
       "    }\n",
       "\n",
       "    .dataframe tbody tr th {\n",
       "        vertical-align: top;\n",
       "    }\n",
       "\n",
       "    .dataframe thead th {\n",
       "        text-align: right;\n",
       "    }\n",
       "</style>\n",
       "<table border=\"1\" class=\"dataframe\">\n",
       "  <thead>\n",
       "    <tr style=\"text-align: right;\">\n",
       "      <th></th>\n",
       "      <th>id</th>\n",
       "      <th>click</th>\n",
       "      <th>hour</th>\n",
       "      <th>C1</th>\n",
       "      <th>banner_pos</th>\n",
       "      <th>site_id</th>\n",
       "      <th>site_domain</th>\n",
       "      <th>site_category</th>\n",
       "      <th>app_id</th>\n",
       "      <th>app_domain</th>\n",
       "      <th>...</th>\n",
       "      <th>device_type</th>\n",
       "      <th>device_conn_type</th>\n",
       "      <th>C14</th>\n",
       "      <th>C15</th>\n",
       "      <th>C16</th>\n",
       "      <th>C17</th>\n",
       "      <th>C18</th>\n",
       "      <th>C19</th>\n",
       "      <th>C20</th>\n",
       "      <th>C21</th>\n",
       "    </tr>\n",
       "  </thead>\n",
       "  <tbody>\n",
       "    <tr>\n",
       "      <th>0</th>\n",
       "      <td>10002028568167339219</td>\n",
       "      <td>0</td>\n",
       "      <td>14102100</td>\n",
       "      <td>1005</td>\n",
       "      <td>0</td>\n",
       "      <td>9e8cf15d</td>\n",
       "      <td>0d3cb7be</td>\n",
       "      <td>f028772b</td>\n",
       "      <td>ecad2386</td>\n",
       "      <td>7801e8d9</td>\n",
       "      <td>...</td>\n",
       "      <td>1</td>\n",
       "      <td>2</td>\n",
       "      <td>20596</td>\n",
       "      <td>320</td>\n",
       "      <td>50</td>\n",
       "      <td>2161</td>\n",
       "      <td>0</td>\n",
       "      <td>35</td>\n",
       "      <td>100148</td>\n",
       "      <td>157</td>\n",
       "    </tr>\n",
       "    <tr>\n",
       "      <th>1</th>\n",
       "      <td>10006958186789044052</td>\n",
       "      <td>1</td>\n",
       "      <td>14102100</td>\n",
       "      <td>1005</td>\n",
       "      <td>0</td>\n",
       "      <td>85f751fd</td>\n",
       "      <td>c4e18dd6</td>\n",
       "      <td>50e219e0</td>\n",
       "      <td>0acbeaa3</td>\n",
       "      <td>45a51db4</td>\n",
       "      <td>...</td>\n",
       "      <td>1</td>\n",
       "      <td>0</td>\n",
       "      <td>18993</td>\n",
       "      <td>320</td>\n",
       "      <td>50</td>\n",
       "      <td>2161</td>\n",
       "      <td>0</td>\n",
       "      <td>35</td>\n",
       "      <td>100034</td>\n",
       "      <td>157</td>\n",
       "    </tr>\n",
       "    <tr>\n",
       "      <th>2</th>\n",
       "      <td>10011650513707909570</td>\n",
       "      <td>0</td>\n",
       "      <td>14102100</td>\n",
       "      <td>1005</td>\n",
       "      <td>0</td>\n",
       "      <td>85f751fd</td>\n",
       "      <td>c4e18dd6</td>\n",
       "      <td>50e219e0</td>\n",
       "      <td>febd1138</td>\n",
       "      <td>82e27996</td>\n",
       "      <td>...</td>\n",
       "      <td>1</td>\n",
       "      <td>0</td>\n",
       "      <td>21611</td>\n",
       "      <td>320</td>\n",
       "      <td>50</td>\n",
       "      <td>2480</td>\n",
       "      <td>3</td>\n",
       "      <td>297</td>\n",
       "      <td>100111</td>\n",
       "      <td>61</td>\n",
       "    </tr>\n",
       "    <tr>\n",
       "      <th>3</th>\n",
       "      <td>10022961149355219548</td>\n",
       "      <td>0</td>\n",
       "      <td>14102100</td>\n",
       "      <td>1005</td>\n",
       "      <td>0</td>\n",
       "      <td>85f751fd</td>\n",
       "      <td>c4e18dd6</td>\n",
       "      <td>50e219e0</td>\n",
       "      <td>e2fcccd2</td>\n",
       "      <td>5c5a694b</td>\n",
       "      <td>...</td>\n",
       "      <td>1</td>\n",
       "      <td>0</td>\n",
       "      <td>4687</td>\n",
       "      <td>320</td>\n",
       "      <td>50</td>\n",
       "      <td>423</td>\n",
       "      <td>2</td>\n",
       "      <td>39</td>\n",
       "      <td>100148</td>\n",
       "      <td>32</td>\n",
       "    </tr>\n",
       "    <tr>\n",
       "      <th>4</th>\n",
       "      <td>10029289556764215760</td>\n",
       "      <td>0</td>\n",
       "      <td>14102100</td>\n",
       "      <td>1005</td>\n",
       "      <td>0</td>\n",
       "      <td>1fbe01fe</td>\n",
       "      <td>f3845767</td>\n",
       "      <td>28905ebd</td>\n",
       "      <td>ecad2386</td>\n",
       "      <td>7801e8d9</td>\n",
       "      <td>...</td>\n",
       "      <td>1</td>\n",
       "      <td>2</td>\n",
       "      <td>15706</td>\n",
       "      <td>320</td>\n",
       "      <td>50</td>\n",
       "      <td>1722</td>\n",
       "      <td>0</td>\n",
       "      <td>35</td>\n",
       "      <td>100084</td>\n",
       "      <td>79</td>\n",
       "    </tr>\n",
       "  </tbody>\n",
       "</table>\n",
       "<p>5 rows × 24 columns</p>\n",
       "</div>"
      ],
      "text/plain": [
       "                     id  click      hour    C1  banner_pos   site_id  \\\n",
       "0  10002028568167339219      0  14102100  1005           0  9e8cf15d   \n",
       "1  10006958186789044052      1  14102100  1005           0  85f751fd   \n",
       "2  10011650513707909570      0  14102100  1005           0  85f751fd   \n",
       "3  10022961149355219548      0  14102100  1005           0  85f751fd   \n",
       "4  10029289556764215760      0  14102100  1005           0  1fbe01fe   \n",
       "\n",
       "  site_domain site_category    app_id app_domain  ... device_type  \\\n",
       "0    0d3cb7be      f028772b  ecad2386   7801e8d9  ...           1   \n",
       "1    c4e18dd6      50e219e0  0acbeaa3   45a51db4  ...           1   \n",
       "2    c4e18dd6      50e219e0  febd1138   82e27996  ...           1   \n",
       "3    c4e18dd6      50e219e0  e2fcccd2   5c5a694b  ...           1   \n",
       "4    f3845767      28905ebd  ecad2386   7801e8d9  ...           1   \n",
       "\n",
       "  device_conn_type    C14  C15  C16   C17  C18  C19     C20  C21  \n",
       "0                2  20596  320   50  2161    0   35  100148  157  \n",
       "1                0  18993  320   50  2161    0   35  100034  157  \n",
       "2                0  21611  320   50  2480    3  297  100111   61  \n",
       "3                0   4687  320   50   423    2   39  100148   32  \n",
       "4                2  15706  320   50  1722    0   35  100084   79  \n",
       "\n",
       "[5 rows x 24 columns]"
      ]
     },
     "execution_count": 3,
     "metadata": {},
     "output_type": "execute_result"
    }
   ],
   "source": [
    "train_data.head()"
   ]
  },
  {
   "cell_type": "code",
   "execution_count": 4,
   "metadata": {},
   "outputs": [
    {
     "name": "stdout",
     "output_type": "stream",
     "text": [
      "<class 'pandas.core.frame.DataFrame'>\n",
      "RangeIndex: 843502 entries, 0 to 843501\n",
      "Data columns (total 24 columns):\n",
      "id                  843502 non-null uint64\n",
      "click               843502 non-null int64\n",
      "hour                843502 non-null int64\n",
      "C1                  843502 non-null int64\n",
      "banner_pos          843502 non-null int64\n",
      "site_id             843502 non-null object\n",
      "site_domain         843502 non-null object\n",
      "site_category       843502 non-null object\n",
      "app_id              843502 non-null object\n",
      "app_domain          843502 non-null object\n",
      "app_category        843502 non-null object\n",
      "device_id           843502 non-null object\n",
      "device_ip           843502 non-null object\n",
      "device_model        843502 non-null object\n",
      "device_type         843502 non-null int64\n",
      "device_conn_type    843502 non-null int64\n",
      "C14                 843502 non-null int64\n",
      "C15                 843502 non-null int64\n",
      "C16                 843502 non-null int64\n",
      "C17                 843502 non-null int64\n",
      "C18                 843502 non-null int64\n",
      "C19                 843502 non-null int64\n",
      "C20                 843502 non-null int64\n",
      "C21                 843502 non-null int64\n",
      "dtypes: int64(14), object(9), uint64(1)\n",
      "memory usage: 154.4+ MB\n"
     ]
    }
   ],
   "source": [
    "train_data.info()"
   ]
  },
  {
   "cell_type": "code",
   "execution_count": 5,
   "metadata": {},
   "outputs": [
    {
     "data": {
      "text/html": [
       "<div>\n",
       "<style scoped>\n",
       "    .dataframe tbody tr th:only-of-type {\n",
       "        vertical-align: middle;\n",
       "    }\n",
       "\n",
       "    .dataframe tbody tr th {\n",
       "        vertical-align: top;\n",
       "    }\n",
       "\n",
       "    .dataframe thead th {\n",
       "        text-align: right;\n",
       "    }\n",
       "</style>\n",
       "<table border=\"1\" class=\"dataframe\">\n",
       "  <thead>\n",
       "    <tr style=\"text-align: right;\">\n",
       "      <th></th>\n",
       "      <th>id</th>\n",
       "      <th>click</th>\n",
       "      <th>hour</th>\n",
       "      <th>C1</th>\n",
       "      <th>banner_pos</th>\n",
       "      <th>device_type</th>\n",
       "      <th>device_conn_type</th>\n",
       "      <th>C14</th>\n",
       "      <th>C15</th>\n",
       "      <th>C16</th>\n",
       "      <th>C17</th>\n",
       "      <th>C18</th>\n",
       "      <th>C19</th>\n",
       "      <th>C20</th>\n",
       "      <th>C21</th>\n",
       "    </tr>\n",
       "  </thead>\n",
       "  <tbody>\n",
       "    <tr>\n",
       "      <th>count</th>\n",
       "      <td>8.435020e+05</td>\n",
       "      <td>843502.000000</td>\n",
       "      <td>8.435020e+05</td>\n",
       "      <td>843502.000000</td>\n",
       "      <td>843502.000000</td>\n",
       "      <td>843502.000000</td>\n",
       "      <td>843502.000000</td>\n",
       "      <td>843502.000000</td>\n",
       "      <td>843502.000000</td>\n",
       "      <td>843502.000000</td>\n",
       "      <td>843502.000000</td>\n",
       "      <td>843502.000000</td>\n",
       "      <td>843502.000000</td>\n",
       "      <td>843502.000000</td>\n",
       "      <td>843502.000000</td>\n",
       "    </tr>\n",
       "    <tr>\n",
       "      <th>mean</th>\n",
       "      <td>9.231625e+18</td>\n",
       "      <td>0.170271</td>\n",
       "      <td>1.410250e+07</td>\n",
       "      <td>1004.959553</td>\n",
       "      <td>0.293501</td>\n",
       "      <td>1.016934</td>\n",
       "      <td>0.330417</td>\n",
       "      <td>18560.262501</td>\n",
       "      <td>318.861537</td>\n",
       "      <td>60.286297</td>\n",
       "      <td>2077.663483</td>\n",
       "      <td>1.443956</td>\n",
       "      <td>217.741979</td>\n",
       "      <td>54155.776171</td>\n",
       "      <td>79.551913</td>\n",
       "    </tr>\n",
       "    <tr>\n",
       "      <th>std</th>\n",
       "      <td>5.325619e+18</td>\n",
       "      <td>0.375871</td>\n",
       "      <td>2.684486e+02</td>\n",
       "      <td>1.132949</td>\n",
       "      <td>0.515961</td>\n",
       "      <td>0.553377</td>\n",
       "      <td>0.854515</td>\n",
       "      <td>5007.778987</td>\n",
       "      <td>21.730624</td>\n",
       "      <td>47.965820</td>\n",
       "      <td>610.749820</td>\n",
       "      <td>1.323114</td>\n",
       "      <td>342.722108</td>\n",
       "      <td>49887.241496</td>\n",
       "      <td>66.999613</td>\n",
       "    </tr>\n",
       "    <tr>\n",
       "      <th>min</th>\n",
       "      <td>1.308118e+13</td>\n",
       "      <td>0.000000</td>\n",
       "      <td>1.410210e+07</td>\n",
       "      <td>1001.000000</td>\n",
       "      <td>0.000000</td>\n",
       "      <td>0.000000</td>\n",
       "      <td>0.000000</td>\n",
       "      <td>375.000000</td>\n",
       "      <td>120.000000</td>\n",
       "      <td>20.000000</td>\n",
       "      <td>112.000000</td>\n",
       "      <td>0.000000</td>\n",
       "      <td>33.000000</td>\n",
       "      <td>-1.000000</td>\n",
       "      <td>1.000000</td>\n",
       "    </tr>\n",
       "    <tr>\n",
       "      <th>25%</th>\n",
       "      <td>4.622961e+18</td>\n",
       "      <td>0.000000</td>\n",
       "      <td>1.410222e+07</td>\n",
       "      <td>1005.000000</td>\n",
       "      <td>0.000000</td>\n",
       "      <td>1.000000</td>\n",
       "      <td>0.000000</td>\n",
       "      <td>16688.000000</td>\n",
       "      <td>320.000000</td>\n",
       "      <td>50.000000</td>\n",
       "      <td>1800.000000</td>\n",
       "      <td>0.000000</td>\n",
       "      <td>35.000000</td>\n",
       "      <td>-1.000000</td>\n",
       "      <td>23.000000</td>\n",
       "    </tr>\n",
       "    <tr>\n",
       "      <th>50%</th>\n",
       "      <td>9.238306e+18</td>\n",
       "      <td>0.000000</td>\n",
       "      <td>1.410251e+07</td>\n",
       "      <td>1005.000000</td>\n",
       "      <td>0.000000</td>\n",
       "      <td>1.000000</td>\n",
       "      <td>0.000000</td>\n",
       "      <td>20108.000000</td>\n",
       "      <td>320.000000</td>\n",
       "      <td>50.000000</td>\n",
       "      <td>2295.000000</td>\n",
       "      <td>2.000000</td>\n",
       "      <td>39.000000</td>\n",
       "      <td>100057.000000</td>\n",
       "      <td>52.000000</td>\n",
       "    </tr>\n",
       "    <tr>\n",
       "      <th>75%</th>\n",
       "      <td>1.384568e+19</td>\n",
       "      <td>0.000000</td>\n",
       "      <td>1.410272e+07</td>\n",
       "      <td>1005.000000</td>\n",
       "      <td>1.000000</td>\n",
       "      <td>1.000000</td>\n",
       "      <td>0.000000</td>\n",
       "      <td>21768.000000</td>\n",
       "      <td>320.000000</td>\n",
       "      <td>50.000000</td>\n",
       "      <td>2506.000000</td>\n",
       "      <td>3.000000</td>\n",
       "      <td>167.000000</td>\n",
       "      <td>100084.000000</td>\n",
       "      <td>91.000000</td>\n",
       "    </tr>\n",
       "    <tr>\n",
       "      <th>max</th>\n",
       "      <td>1.844669e+19</td>\n",
       "      <td>1.000000</td>\n",
       "      <td>1.410300e+07</td>\n",
       "      <td>1012.000000</td>\n",
       "      <td>7.000000</td>\n",
       "      <td>5.000000</td>\n",
       "      <td>5.000000</td>\n",
       "      <td>23836.000000</td>\n",
       "      <td>1024.000000</td>\n",
       "      <td>1024.000000</td>\n",
       "      <td>2729.000000</td>\n",
       "      <td>3.000000</td>\n",
       "      <td>1839.000000</td>\n",
       "      <td>100248.000000</td>\n",
       "      <td>253.000000</td>\n",
       "    </tr>\n",
       "  </tbody>\n",
       "</table>\n",
       "</div>"
      ],
      "text/plain": [
       "                 id          click          hour             C1  \\\n",
       "count  8.435020e+05  843502.000000  8.435020e+05  843502.000000   \n",
       "mean   9.231625e+18       0.170271  1.410250e+07    1004.959553   \n",
       "std    5.325619e+18       0.375871  2.684486e+02       1.132949   \n",
       "min    1.308118e+13       0.000000  1.410210e+07    1001.000000   \n",
       "25%    4.622961e+18       0.000000  1.410222e+07    1005.000000   \n",
       "50%    9.238306e+18       0.000000  1.410251e+07    1005.000000   \n",
       "75%    1.384568e+19       0.000000  1.410272e+07    1005.000000   \n",
       "max    1.844669e+19       1.000000  1.410300e+07    1012.000000   \n",
       "\n",
       "          banner_pos    device_type  device_conn_type            C14  \\\n",
       "count  843502.000000  843502.000000     843502.000000  843502.000000   \n",
       "mean        0.293501       1.016934          0.330417   18560.262501   \n",
       "std         0.515961       0.553377          0.854515    5007.778987   \n",
       "min         0.000000       0.000000          0.000000     375.000000   \n",
       "25%         0.000000       1.000000          0.000000   16688.000000   \n",
       "50%         0.000000       1.000000          0.000000   20108.000000   \n",
       "75%         1.000000       1.000000          0.000000   21768.000000   \n",
       "max         7.000000       5.000000          5.000000   23836.000000   \n",
       "\n",
       "                 C15            C16            C17            C18  \\\n",
       "count  843502.000000  843502.000000  843502.000000  843502.000000   \n",
       "mean      318.861537      60.286297    2077.663483       1.443956   \n",
       "std        21.730624      47.965820     610.749820       1.323114   \n",
       "min       120.000000      20.000000     112.000000       0.000000   \n",
       "25%       320.000000      50.000000    1800.000000       0.000000   \n",
       "50%       320.000000      50.000000    2295.000000       2.000000   \n",
       "75%       320.000000      50.000000    2506.000000       3.000000   \n",
       "max      1024.000000    1024.000000    2729.000000       3.000000   \n",
       "\n",
       "                 C19            C20            C21  \n",
       "count  843502.000000  843502.000000  843502.000000  \n",
       "mean      217.741979   54155.776171      79.551913  \n",
       "std       342.722108   49887.241496      66.999613  \n",
       "min        33.000000      -1.000000       1.000000  \n",
       "25%        35.000000      -1.000000      23.000000  \n",
       "50%        39.000000  100057.000000      52.000000  \n",
       "75%       167.000000  100084.000000      91.000000  \n",
       "max      1839.000000  100248.000000     253.000000  "
      ]
     },
     "execution_count": 5,
     "metadata": {},
     "output_type": "execute_result"
    }
   ],
   "source": [
    "train_data.describe()"
   ]
  },
  {
   "cell_type": "code",
   "execution_count": 6,
   "metadata": {},
   "outputs": [
    {
     "data": {
      "text/html": [
       "<div>\n",
       "<style scoped>\n",
       "    .dataframe tbody tr th:only-of-type {\n",
       "        vertical-align: middle;\n",
       "    }\n",
       "\n",
       "    .dataframe tbody tr th {\n",
       "        vertical-align: top;\n",
       "    }\n",
       "\n",
       "    .dataframe thead th {\n",
       "        text-align: right;\n",
       "    }\n",
       "</style>\n",
       "<table border=\"1\" class=\"dataframe\">\n",
       "  <thead>\n",
       "    <tr style=\"text-align: right;\">\n",
       "      <th></th>\n",
       "      <th>site_id</th>\n",
       "      <th>site_domain</th>\n",
       "      <th>site_category</th>\n",
       "      <th>app_id</th>\n",
       "      <th>app_domain</th>\n",
       "      <th>app_category</th>\n",
       "      <th>device_id</th>\n",
       "      <th>device_ip</th>\n",
       "      <th>device_model</th>\n",
       "    </tr>\n",
       "  </thead>\n",
       "  <tbody>\n",
       "    <tr>\n",
       "      <th>count</th>\n",
       "      <td>843502</td>\n",
       "      <td>843502</td>\n",
       "      <td>843502</td>\n",
       "      <td>843502</td>\n",
       "      <td>843502</td>\n",
       "      <td>843502</td>\n",
       "      <td>843502</td>\n",
       "      <td>843502</td>\n",
       "      <td>843502</td>\n",
       "    </tr>\n",
       "    <tr>\n",
       "      <th>unique</th>\n",
       "      <td>2366</td>\n",
       "      <td>2506</td>\n",
       "      <td>21</td>\n",
       "      <td>2211</td>\n",
       "      <td>156</td>\n",
       "      <td>28</td>\n",
       "      <td>78975</td>\n",
       "      <td>153806</td>\n",
       "      <td>4415</td>\n",
       "    </tr>\n",
       "    <tr>\n",
       "      <th>top</th>\n",
       "      <td>85f751fd</td>\n",
       "      <td>c4e18dd6</td>\n",
       "      <td>50e219e0</td>\n",
       "      <td>ecad2386</td>\n",
       "      <td>7801e8d9</td>\n",
       "      <td>07d7df22</td>\n",
       "      <td>a99f214a</td>\n",
       "      <td>699f69bd</td>\n",
       "      <td>8a4875bd</td>\n",
       "    </tr>\n",
       "    <tr>\n",
       "      <th>freq</th>\n",
       "      <td>294815</td>\n",
       "      <td>306511</td>\n",
       "      <td>339610</td>\n",
       "      <td>548687</td>\n",
       "      <td>580117</td>\n",
       "      <td>556049</td>\n",
       "      <td>688380</td>\n",
       "      <td>13341</td>\n",
       "      <td>50208</td>\n",
       "    </tr>\n",
       "  </tbody>\n",
       "</table>\n",
       "</div>"
      ],
      "text/plain": [
       "         site_id site_domain site_category    app_id app_domain app_category  \\\n",
       "count     843502      843502        843502    843502     843502       843502   \n",
       "unique      2366        2506            21      2211        156           28   \n",
       "top     85f751fd    c4e18dd6      50e219e0  ecad2386   7801e8d9     07d7df22   \n",
       "freq      294815      306511        339610    548687     580117       556049   \n",
       "\n",
       "       device_id device_ip device_model  \n",
       "count     843502    843502       843502  \n",
       "unique     78975    153806         4415  \n",
       "top     a99f214a  699f69bd     8a4875bd  \n",
       "freq      688380     13341        50208  "
      ]
     },
     "execution_count": 6,
     "metadata": {},
     "output_type": "execute_result"
    }
   ],
   "source": [
    "train_data.describe(include=['O']) #The describe() function above gives information about the numeric datatypes only. The include parameter can be used to get information about object datatypes."
   ]
  },
  {
   "cell_type": "code",
   "execution_count": 7,
   "metadata": {},
   "outputs": [
    {
     "data": {
      "text/html": [
       "<div>\n",
       "<style scoped>\n",
       "    .dataframe tbody tr th:only-of-type {\n",
       "        vertical-align: middle;\n",
       "    }\n",
       "\n",
       "    .dataframe tbody tr th {\n",
       "        vertical-align: top;\n",
       "    }\n",
       "\n",
       "    .dataframe thead th {\n",
       "        text-align: right;\n",
       "    }\n",
       "</style>\n",
       "<table border=\"1\" class=\"dataframe\">\n",
       "  <thead>\n",
       "    <tr style=\"text-align: right;\">\n",
       "      <th></th>\n",
       "      <th>id</th>\n",
       "      <th>hour</th>\n",
       "      <th>C1</th>\n",
       "      <th>banner_pos</th>\n",
       "      <th>site_id</th>\n",
       "      <th>site_domain</th>\n",
       "      <th>site_category</th>\n",
       "      <th>app_id</th>\n",
       "      <th>app_domain</th>\n",
       "      <th>app_category</th>\n",
       "      <th>...</th>\n",
       "      <th>device_type</th>\n",
       "      <th>device_conn_type</th>\n",
       "      <th>C14</th>\n",
       "      <th>C15</th>\n",
       "      <th>C16</th>\n",
       "      <th>C17</th>\n",
       "      <th>C18</th>\n",
       "      <th>C19</th>\n",
       "      <th>C20</th>\n",
       "      <th>C21</th>\n",
       "    </tr>\n",
       "  </thead>\n",
       "  <tbody>\n",
       "    <tr>\n",
       "      <th>0</th>\n",
       "      <td>635176803480460379</td>\n",
       "      <td>14103000</td>\n",
       "      <td>1002</td>\n",
       "      <td>0</td>\n",
       "      <td>85f751fd</td>\n",
       "      <td>c4e18dd6</td>\n",
       "      <td>50e219e0</td>\n",
       "      <td>27550a3c</td>\n",
       "      <td>7801e8d9</td>\n",
       "      <td>07d7df22</td>\n",
       "      <td>...</td>\n",
       "      <td>0</td>\n",
       "      <td>0</td>\n",
       "      <td>23553</td>\n",
       "      <td>300</td>\n",
       "      <td>50</td>\n",
       "      <td>2699</td>\n",
       "      <td>0</td>\n",
       "      <td>163</td>\n",
       "      <td>-1</td>\n",
       "      <td>212</td>\n",
       "    </tr>\n",
       "    <tr>\n",
       "      <th>1</th>\n",
       "      <td>6360170755674123511</td>\n",
       "      <td>14103000</td>\n",
       "      <td>1005</td>\n",
       "      <td>1</td>\n",
       "      <td>d9750ee7</td>\n",
       "      <td>98572c79</td>\n",
       "      <td>f028772b</td>\n",
       "      <td>ecad2386</td>\n",
       "      <td>7801e8d9</td>\n",
       "      <td>07d7df22</td>\n",
       "      <td>...</td>\n",
       "      <td>1</td>\n",
       "      <td>0</td>\n",
       "      <td>17614</td>\n",
       "      <td>320</td>\n",
       "      <td>50</td>\n",
       "      <td>1993</td>\n",
       "      <td>2</td>\n",
       "      <td>1063</td>\n",
       "      <td>-1</td>\n",
       "      <td>33</td>\n",
       "    </tr>\n",
       "    <tr>\n",
       "      <th>2</th>\n",
       "      <td>6372531204453459606</td>\n",
       "      <td>14103000</td>\n",
       "      <td>1005</td>\n",
       "      <td>0</td>\n",
       "      <td>85f751fd</td>\n",
       "      <td>c4e18dd6</td>\n",
       "      <td>50e219e0</td>\n",
       "      <td>9c13b419</td>\n",
       "      <td>2347f47a</td>\n",
       "      <td>f95efa07</td>\n",
       "      <td>...</td>\n",
       "      <td>1</td>\n",
       "      <td>0</td>\n",
       "      <td>23726</td>\n",
       "      <td>320</td>\n",
       "      <td>50</td>\n",
       "      <td>2717</td>\n",
       "      <td>2</td>\n",
       "      <td>47</td>\n",
       "      <td>-1</td>\n",
       "      <td>23</td>\n",
       "    </tr>\n",
       "    <tr>\n",
       "      <th>3</th>\n",
       "      <td>6375797800199782003</td>\n",
       "      <td>14103000</td>\n",
       "      <td>1005</td>\n",
       "      <td>0</td>\n",
       "      <td>1fbe01fe</td>\n",
       "      <td>f3845767</td>\n",
       "      <td>28905ebd</td>\n",
       "      <td>ecad2386</td>\n",
       "      <td>7801e8d9</td>\n",
       "      <td>07d7df22</td>\n",
       "      <td>...</td>\n",
       "      <td>1</td>\n",
       "      <td>0</td>\n",
       "      <td>15704</td>\n",
       "      <td>320</td>\n",
       "      <td>50</td>\n",
       "      <td>1722</td>\n",
       "      <td>0</td>\n",
       "      <td>35</td>\n",
       "      <td>100084</td>\n",
       "      <td>79</td>\n",
       "    </tr>\n",
       "    <tr>\n",
       "      <th>4</th>\n",
       "      <td>638604204480092601</td>\n",
       "      <td>14103000</td>\n",
       "      <td>1005</td>\n",
       "      <td>0</td>\n",
       "      <td>7294ea0f</td>\n",
       "      <td>863fa89d</td>\n",
       "      <td>3e814130</td>\n",
       "      <td>ecad2386</td>\n",
       "      <td>7801e8d9</td>\n",
       "      <td>07d7df22</td>\n",
       "      <td>...</td>\n",
       "      <td>1</td>\n",
       "      <td>0</td>\n",
       "      <td>17239</td>\n",
       "      <td>320</td>\n",
       "      <td>50</td>\n",
       "      <td>1973</td>\n",
       "      <td>3</td>\n",
       "      <td>39</td>\n",
       "      <td>-1</td>\n",
       "      <td>23</td>\n",
       "    </tr>\n",
       "  </tbody>\n",
       "</table>\n",
       "<p>5 rows × 23 columns</p>\n",
       "</div>"
      ],
      "text/plain": [
       "                    id      hour    C1  banner_pos   site_id site_domain  \\\n",
       "0   635176803480460379  14103000  1002           0  85f751fd    c4e18dd6   \n",
       "1  6360170755674123511  14103000  1005           1  d9750ee7    98572c79   \n",
       "2  6372531204453459606  14103000  1005           0  85f751fd    c4e18dd6   \n",
       "3  6375797800199782003  14103000  1005           0  1fbe01fe    f3845767   \n",
       "4   638604204480092601  14103000  1005           0  7294ea0f    863fa89d   \n",
       "\n",
       "  site_category    app_id app_domain app_category  ... device_type  \\\n",
       "0      50e219e0  27550a3c   7801e8d9     07d7df22  ...           0   \n",
       "1      f028772b  ecad2386   7801e8d9     07d7df22  ...           1   \n",
       "2      50e219e0  9c13b419   2347f47a     f95efa07  ...           1   \n",
       "3      28905ebd  ecad2386   7801e8d9     07d7df22  ...           1   \n",
       "4      3e814130  ecad2386   7801e8d9     07d7df22  ...           1   \n",
       "\n",
       "  device_conn_type    C14  C15  C16   C17  C18   C19     C20  C21  \n",
       "0                0  23553  300   50  2699    0   163      -1  212  \n",
       "1                0  17614  320   50  1993    2  1063      -1   33  \n",
       "2                0  23726  320   50  2717    2    47      -1   23  \n",
       "3                0  15704  320   50  1722    0    35  100084   79  \n",
       "4                0  17239  320   50  1973    3    39      -1   23  \n",
       "\n",
       "[5 rows x 23 columns]"
      ]
     },
     "execution_count": 7,
     "metadata": {},
     "output_type": "execute_result"
    }
   ],
   "source": [
    "test_data.head()"
   ]
  },
  {
   "cell_type": "code",
   "execution_count": 8,
   "metadata": {},
   "outputs": [
    {
     "name": "stdout",
     "output_type": "stream",
     "text": [
      "<class 'pandas.core.frame.DataFrame'>\n",
      "RangeIndex: 100000 entries, 0 to 99999\n",
      "Data columns (total 23 columns):\n",
      "id                  100000 non-null uint64\n",
      "hour                100000 non-null int64\n",
      "C1                  100000 non-null int64\n",
      "banner_pos          100000 non-null int64\n",
      "site_id             100000 non-null object\n",
      "site_domain         100000 non-null object\n",
      "site_category       100000 non-null object\n",
      "app_id              100000 non-null object\n",
      "app_domain          100000 non-null object\n",
      "app_category        100000 non-null object\n",
      "device_id           100000 non-null object\n",
      "device_ip           100000 non-null object\n",
      "device_model        100000 non-null object\n",
      "device_type         100000 non-null int64\n",
      "device_conn_type    100000 non-null int64\n",
      "C14                 100000 non-null int64\n",
      "C15                 100000 non-null int64\n",
      "C16                 100000 non-null int64\n",
      "C17                 100000 non-null int64\n",
      "C18                 100000 non-null int64\n",
      "C19                 100000 non-null int64\n",
      "C20                 100000 non-null int64\n",
      "C21                 100000 non-null int64\n",
      "dtypes: int64(13), object(9), uint64(1)\n",
      "memory usage: 17.5+ MB\n"
     ]
    }
   ],
   "source": [
    "test_data.info()"
   ]
  },
  {
   "cell_type": "markdown",
   "metadata": {},
   "source": [
    "## Exploratory Data Analysis\n",
    "Analyzing the target variable shows that the dataset has 82.97% of no clicks and 17.03% clicks. This shows that the dataset is unbalanced."
   ]
  },
  {
   "cell_type": "code",
   "execution_count": 9,
   "metadata": {},
   "outputs": [
    {
     "data": {
      "text/plain": [
       "0    0.829729\n",
       "1    0.170271\n",
       "Name: click, dtype: float64"
      ]
     },
     "execution_count": 9,
     "metadata": {},
     "output_type": "execute_result"
    }
   ],
   "source": [
    "train_data['click'].value_counts(normalize=True)"
   ]
  },
  {
   "cell_type": "markdown",
   "metadata": {},
   "source": [
    "## Features\n",
    "The dataset has mostly categorical features. Analyzing the number of observations in the different categories of the features helps in understanding the distribution of the data. Since this is a click dataset, it is important to analyze the click through rate (CTR) as well. Click through rate = number of clicks/number of impressions. The mean across different categories gives the CTR."
   ]
  },
  {
   "cell_type": "markdown",
   "metadata": {},
   "source": [
    "### Feature C1\n",
    "The category 1005 has the max number of observations. However, the category 1002 has the highest click through rate of 0.21. Category 1005 also has a high CTR of 0.17."
   ]
  },
  {
   "cell_type": "code",
   "execution_count": 10,
   "metadata": {},
   "outputs": [
    {
     "data": {
      "image/png": "[encoded data removed]",
      "text/plain": [
       "<Figure size 800x320 with 1 Axes>"
      ]
     },
     "metadata": {},
     "output_type": "display_data"
    }
   ],
   "source": [
    "figure(num=None, figsize=(10,4), dpi=80, facecolor='w', edgecolor='k')\n",
    "train_data.groupby(['C1'])['click'].agg('count').plot.bar()\n",
    "plt.show()"
   ]
  },
  {
   "cell_type": "code",
   "execution_count": 11,
   "metadata": {},
   "outputs": [
    {
     "data": {
      "text/html": [
       "<div>\n",
       "<style scoped>\n",
       "    .dataframe tbody tr th:only-of-type {\n",
       "        vertical-align: middle;\n",
       "    }\n",
       "\n",
       "    .dataframe tbody tr th {\n",
       "        vertical-align: top;\n",
       "    }\n",
       "\n",
       "    .dataframe thead th {\n",
       "        text-align: right;\n",
       "    }\n",
       "</style>\n",
       "<table border=\"1\" class=\"dataframe\">\n",
       "  <thead>\n",
       "    <tr style=\"text-align: right;\">\n",
       "      <th></th>\n",
       "      <th>click</th>\n",
       "    </tr>\n",
       "    <tr>\n",
       "      <th>C1</th>\n",
       "      <th></th>\n",
       "    </tr>\n",
       "  </thead>\n",
       "  <tbody>\n",
       "    <tr>\n",
       "      <th>1002</th>\n",
       "      <td>0.212606</td>\n",
       "    </tr>\n",
       "    <tr>\n",
       "      <th>1005</th>\n",
       "      <td>0.170058</td>\n",
       "    </tr>\n",
       "    <tr>\n",
       "      <th>1008</th>\n",
       "      <td>0.164634</td>\n",
       "    </tr>\n",
       "    <tr>\n",
       "      <th>1010</th>\n",
       "      <td>0.091045</td>\n",
       "    </tr>\n",
       "    <tr>\n",
       "      <th>1012</th>\n",
       "      <td>0.068479</td>\n",
       "    </tr>\n",
       "    <tr>\n",
       "      <th>1007</th>\n",
       "      <td>0.044578</td>\n",
       "    </tr>\n",
       "    <tr>\n",
       "      <th>1001</th>\n",
       "      <td>0.018315</td>\n",
       "    </tr>\n",
       "  </tbody>\n",
       "</table>\n",
       "</div>"
      ],
      "text/plain": [
       "         click\n",
       "C1            \n",
       "1002  0.212606\n",
       "1005  0.170058\n",
       "1008  0.164634\n",
       "1010  0.091045\n",
       "1012  0.068479\n",
       "1007  0.044578\n",
       "1001  0.018315"
      ]
     },
     "execution_count": 11,
     "metadata": {},
     "output_type": "execute_result"
    }
   ],
   "source": [
    "train_data[[\"click\",\"C1\"]].groupby(\"C1\").mean().sort_values('click',ascending=False) #Calculating CTR and sorting in the descending order."
   ]
  },
  {
   "cell_type": "markdown",
   "metadata": {},
   "source": [
    "### Feature banner_pos\n",
    "The category 0 has the max number of observations. However, the category 7 has the highest click through rate of 0.30. Category 0 has a CTR of 0.16. This shows that most of the observations in category 0 are not clicked."
   ]
  },
  {
   "cell_type": "code",
   "execution_count": 12,
   "metadata": {},
   "outputs": [
    {
     "data": {
      "image/png": "[encoded data removed]",
      "text/plain": [
       "<Figure size 800x320 with 1 Axes>"
      ]
     },
     "metadata": {},
     "output_type": "display_data"
    }
   ],
   "source": [
    "figure(num=None, figsize=(10,4), dpi=80, facecolor='w', edgecolor='k')\n",
    "train_data.groupby(['banner_pos'])['click'].agg('count').plot.bar()\n",
    "plt.show()"
   ]
  },
  {
   "cell_type": "code",
   "execution_count": 13,
   "metadata": {},
   "outputs": [
    {
     "data": {
      "text/html": [
       "<div>\n",
       "<style scoped>\n",
       "    .dataframe tbody tr th:only-of-type {\n",
       "        vertical-align: middle;\n",
       "    }\n",
       "\n",
       "    .dataframe tbody tr th {\n",
       "        vertical-align: top;\n",
       "    }\n",
       "\n",
       "    .dataframe thead th {\n",
       "        text-align: right;\n",
       "    }\n",
       "</style>\n",
       "<table border=\"1\" class=\"dataframe\">\n",
       "  <thead>\n",
       "    <tr style=\"text-align: right;\">\n",
       "      <th></th>\n",
       "      <th>click</th>\n",
       "    </tr>\n",
       "    <tr>\n",
       "      <th>banner_pos</th>\n",
       "      <th></th>\n",
       "    </tr>\n",
       "  </thead>\n",
       "  <tbody>\n",
       "    <tr>\n",
       "      <th>7</th>\n",
       "      <td>0.298739</td>\n",
       "    </tr>\n",
       "    <tr>\n",
       "      <th>1</th>\n",
       "      <td>0.186881</td>\n",
       "    </tr>\n",
       "    <tr>\n",
       "      <th>5</th>\n",
       "      <td>0.164634</td>\n",
       "    </tr>\n",
       "    <tr>\n",
       "      <th>0</th>\n",
       "      <td>0.163545</td>\n",
       "    </tr>\n",
       "    <tr>\n",
       "      <th>4</th>\n",
       "      <td>0.150838</td>\n",
       "    </tr>\n",
       "    <tr>\n",
       "      <th>3</th>\n",
       "      <td>0.118644</td>\n",
       "    </tr>\n",
       "    <tr>\n",
       "      <th>2</th>\n",
       "      <td>0.103203</td>\n",
       "    </tr>\n",
       "  </tbody>\n",
       "</table>\n",
       "</div>"
      ],
      "text/plain": [
       "               click\n",
       "banner_pos          \n",
       "7           0.298739\n",
       "1           0.186881\n",
       "5           0.164634\n",
       "0           0.163545\n",
       "4           0.150838\n",
       "3           0.118644\n",
       "2           0.103203"
      ]
     },
     "execution_count": 13,
     "metadata": {},
     "output_type": "execute_result"
    }
   ],
   "source": [
    "train_data[[\"click\",\"banner_pos\"]].groupby(\"banner_pos\").mean().sort_values('click',ascending=False)"
   ]
  },
  {
   "cell_type": "markdown",
   "metadata": {},
   "source": [
    "### Feature Device Type\n",
    "The category 1 has the max number of observations. However, the category 0 has the highest click through rate of 0.21. Category 1 has the second highest CTR value of 0.17."
   ]
  },
  {
   "cell_type": "code",
   "execution_count": 14,
   "metadata": {},
   "outputs": [
    {
     "data": {
      "image/png": "[encoded data removed]",
      "text/plain": [
       "<Figure size 800x320 with 1 Axes>"
      ]
     },
     "metadata": {},
     "output_type": "display_data"
    }
   ],
   "source": [
    "figure(num=None, figsize=(10,4), dpi=80, facecolor='w', edgecolor='k')\n",
    "train_data.groupby(['device_type'])['click'].agg('count').plot.bar()\n",
    "plt.show()"
   ]
  },
  {
   "cell_type": "code",
   "execution_count": 15,
   "metadata": {},
   "outputs": [
    {
     "data": {
      "text/html": [
       "<div>\n",
       "<style scoped>\n",
       "    .dataframe tbody tr th:only-of-type {\n",
       "        vertical-align: middle;\n",
       "    }\n",
       "\n",
       "    .dataframe tbody tr th {\n",
       "        vertical-align: top;\n",
       "    }\n",
       "\n",
       "    .dataframe thead th {\n",
       "        text-align: right;\n",
       "    }\n",
       "</style>\n",
       "<table border=\"1\" class=\"dataframe\">\n",
       "  <thead>\n",
       "    <tr style=\"text-align: right;\">\n",
       "      <th></th>\n",
       "      <th>click</th>\n",
       "    </tr>\n",
       "    <tr>\n",
       "      <th>device_type</th>\n",
       "      <th></th>\n",
       "    </tr>\n",
       "  </thead>\n",
       "  <tbody>\n",
       "    <tr>\n",
       "      <th>0</th>\n",
       "      <td>0.212606</td>\n",
       "    </tr>\n",
       "    <tr>\n",
       "      <th>1</th>\n",
       "      <td>0.169607</td>\n",
       "    </tr>\n",
       "    <tr>\n",
       "      <th>4</th>\n",
       "      <td>0.092953</td>\n",
       "    </tr>\n",
       "    <tr>\n",
       "      <th>5</th>\n",
       "      <td>0.079595</td>\n",
       "    </tr>\n",
       "  </tbody>\n",
       "</table>\n",
       "</div>"
      ],
      "text/plain": [
       "                click\n",
       "device_type          \n",
       "0            0.212606\n",
       "1            0.169607\n",
       "4            0.092953\n",
       "5            0.079595"
      ]
     },
     "execution_count": 15,
     "metadata": {},
     "output_type": "execute_result"
    }
   ],
   "source": [
    "train_data[[\"click\",\"device_type\"]].groupby(\"device_type\").mean().sort_values('click',ascending=False)"
   ]
  },
  {
   "cell_type": "markdown",
   "metadata": {},
   "source": [
    "### Feature Device Conn Type\n",
    "The category 0 has the max number of observations and the highest click through rate."
   ]
  },
  {
   "cell_type": "code",
   "execution_count": 16,
   "metadata": {},
   "outputs": [
    {
     "data": {
      "image/png": "[encoded data removed]",
      "text/plain": [
       "<Figure size 800x320 with 1 Axes>"
      ]
     },
     "metadata": {},
     "output_type": "display_data"
    }
   ],
   "source": [
    "figure(num=None, figsize=(10,4), dpi=80, facecolor='w', edgecolor='k')\n",
    "train_data.groupby(['device_conn_type'])['click'].agg('count').plot.bar()\n",
    "plt.show()"
   ]
  },
  {
   "cell_type": "code",
   "execution_count": 17,
   "metadata": {},
   "outputs": [
    {
     "data": {
      "text/html": [
       "<div>\n",
       "<style scoped>\n",
       "    .dataframe tbody tr th:only-of-type {\n",
       "        vertical-align: middle;\n",
       "    }\n",
       "\n",
       "    .dataframe tbody tr th {\n",
       "        vertical-align: top;\n",
       "    }\n",
       "\n",
       "    .dataframe thead th {\n",
       "        text-align: right;\n",
       "    }\n",
       "</style>\n",
       "<table border=\"1\" class=\"dataframe\">\n",
       "  <thead>\n",
       "    <tr style=\"text-align: right;\">\n",
       "      <th></th>\n",
       "      <th>click</th>\n",
       "    </tr>\n",
       "    <tr>\n",
       "      <th>device_conn_type</th>\n",
       "      <th></th>\n",
       "    </tr>\n",
       "  </thead>\n",
       "  <tbody>\n",
       "    <tr>\n",
       "      <th>0</th>\n",
       "      <td>0.181809</td>\n",
       "    </tr>\n",
       "    <tr>\n",
       "      <th>2</th>\n",
       "      <td>0.134257</td>\n",
       "    </tr>\n",
       "    <tr>\n",
       "      <th>3</th>\n",
       "      <td>0.042110</td>\n",
       "    </tr>\n",
       "    <tr>\n",
       "      <th>5</th>\n",
       "      <td>0.032412</td>\n",
       "    </tr>\n",
       "  </tbody>\n",
       "</table>\n",
       "</div>"
      ],
      "text/plain": [
       "                     click\n",
       "device_conn_type          \n",
       "0                 0.181809\n",
       "2                 0.134257\n",
       "3                 0.042110\n",
       "5                 0.032412"
      ]
     },
     "execution_count": 17,
     "metadata": {},
     "output_type": "execute_result"
    }
   ],
   "source": [
    "train_data[[\"click\",\"device_conn_type\"]].groupby(\"device_conn_type\").mean().sort_values('click',ascending=False)"
   ]
  },
  {
   "cell_type": "markdown",
   "metadata": {},
   "source": [
    "### Feature C15\n",
    "The category 320 has the max number of observations. However, the category 300 has the highest click through rate."
   ]
  },
  {
   "cell_type": "code",
   "execution_count": 18,
   "metadata": {},
   "outputs": [
    {
     "data": {
      "image/png": "[encoded data removed]",
      "text/plain": [
       "<Figure size 800x320 with 1 Axes>"
      ]
     },
     "metadata": {},
     "output_type": "display_data"
    }
   ],
   "source": [
    "figure(num=None, figsize=(10,4), dpi=80, facecolor='w', edgecolor='k')\n",
    "train_data.groupby(['C15'])['click'].agg('count').plot.bar()\n",
    "plt.show()"
   ]
  },
  {
   "cell_type": "code",
   "execution_count": 19,
   "metadata": {},
   "outputs": [
    {
     "data": {
      "text/html": [
       "<div>\n",
       "<style scoped>\n",
       "    .dataframe tbody tr th:only-of-type {\n",
       "        vertical-align: middle;\n",
       "    }\n",
       "\n",
       "    .dataframe tbody tr th {\n",
       "        vertical-align: top;\n",
       "    }\n",
       "\n",
       "    .dataframe thead th {\n",
       "        text-align: right;\n",
       "    }\n",
       "</style>\n",
       "<table border=\"1\" class=\"dataframe\">\n",
       "  <thead>\n",
       "    <tr style=\"text-align: right;\">\n",
       "      <th></th>\n",
       "      <th>click</th>\n",
       "    </tr>\n",
       "    <tr>\n",
       "      <th>C15</th>\n",
       "      <th></th>\n",
       "    </tr>\n",
       "  </thead>\n",
       "  <tbody>\n",
       "    <tr>\n",
       "      <th>300</th>\n",
       "      <td>0.376449</td>\n",
       "    </tr>\n",
       "    <tr>\n",
       "      <th>768</th>\n",
       "      <td>0.320000</td>\n",
       "    </tr>\n",
       "    <tr>\n",
       "      <th>1024</th>\n",
       "      <td>0.250000</td>\n",
       "    </tr>\n",
       "    <tr>\n",
       "      <th>480</th>\n",
       "      <td>0.219512</td>\n",
       "    </tr>\n",
       "    <tr>\n",
       "      <th>320</th>\n",
       "      <td>0.158500</td>\n",
       "    </tr>\n",
       "    <tr>\n",
       "      <th>216</th>\n",
       "      <td>0.128220</td>\n",
       "    </tr>\n",
       "    <tr>\n",
       "      <th>728</th>\n",
       "      <td>0.057357</td>\n",
       "    </tr>\n",
       "    <tr>\n",
       "      <th>120</th>\n",
       "      <td>0.010526</td>\n",
       "    </tr>\n",
       "  </tbody>\n",
       "</table>\n",
       "</div>"
      ],
      "text/plain": [
       "         click\n",
       "C15           \n",
       "300   0.376449\n",
       "768   0.320000\n",
       "1024  0.250000\n",
       "480   0.219512\n",
       "320   0.158500\n",
       "216   0.128220\n",
       "728   0.057357\n",
       "120   0.010526"
      ]
     },
     "execution_count": 19,
     "metadata": {},
     "output_type": "execute_result"
    }
   ],
   "source": [
    "train_data[[\"click\",\"C15\"]].groupby(\"C15\").mean().sort_values('click',ascending=False)"
   ]
  },
  {
   "cell_type": "markdown",
   "metadata": {},
   "source": [
    "### Feature C16\n",
    "The category 50 has the max number of observations. However, the category 250 has the highest click through rate of 0.43."
   ]
  },
  {
   "cell_type": "code",
   "execution_count": 20,
   "metadata": {},
   "outputs": [
    {
     "data": {
      "image/png": "[encoded data removed]",
      "text/plain": [
       "<Figure size 800x320 with 1 Axes>"
      ]
     },
     "metadata": {},
     "output_type": "display_data"
    }
   ],
   "source": [
    "figure(num=None, figsize=(10,4), dpi=80, facecolor='w', edgecolor='k')\n",
    "train_data.groupby(['C16'])['click'].agg('count').plot.bar()\n",
    "plt.show()"
   ]
  },
  {
   "cell_type": "code",
   "execution_count": 21,
   "metadata": {},
   "outputs": [
    {
     "data": {
      "text/html": [
       "<div>\n",
       "<style scoped>\n",
       "    .dataframe tbody tr th:only-of-type {\n",
       "        vertical-align: middle;\n",
       "    }\n",
       "\n",
       "    .dataframe tbody tr th {\n",
       "        vertical-align: top;\n",
       "    }\n",
       "\n",
       "    .dataframe thead th {\n",
       "        text-align: right;\n",
       "    }\n",
       "</style>\n",
       "<table border=\"1\" class=\"dataframe\">\n",
       "  <thead>\n",
       "    <tr style=\"text-align: right;\">\n",
       "      <th></th>\n",
       "      <th>click</th>\n",
       "    </tr>\n",
       "    <tr>\n",
       "      <th>C16</th>\n",
       "      <th></th>\n",
       "    </tr>\n",
       "  </thead>\n",
       "  <tbody>\n",
       "    <tr>\n",
       "      <th>250</th>\n",
       "      <td>0.431632</td>\n",
       "    </tr>\n",
       "    <tr>\n",
       "      <th>1024</th>\n",
       "      <td>0.320000</td>\n",
       "    </tr>\n",
       "    <tr>\n",
       "      <th>768</th>\n",
       "      <td>0.250000</td>\n",
       "    </tr>\n",
       "    <tr>\n",
       "      <th>320</th>\n",
       "      <td>0.219512</td>\n",
       "    </tr>\n",
       "    <tr>\n",
       "      <th>480</th>\n",
       "      <td>0.215951</td>\n",
       "    </tr>\n",
       "    <tr>\n",
       "      <th>50</th>\n",
       "      <td>0.158257</td>\n",
       "    </tr>\n",
       "    <tr>\n",
       "      <th>36</th>\n",
       "      <td>0.128220</td>\n",
       "    </tr>\n",
       "    <tr>\n",
       "      <th>90</th>\n",
       "      <td>0.057357</td>\n",
       "    </tr>\n",
       "    <tr>\n",
       "      <th>20</th>\n",
       "      <td>0.010526</td>\n",
       "    </tr>\n",
       "  </tbody>\n",
       "</table>\n",
       "</div>"
      ],
      "text/plain": [
       "         click\n",
       "C16           \n",
       "250   0.431632\n",
       "1024  0.320000\n",
       "768   0.250000\n",
       "320   0.219512\n",
       "480   0.215951\n",
       "50    0.158257\n",
       "36    0.128220\n",
       "90    0.057357\n",
       "20    0.010526"
      ]
     },
     "execution_count": 21,
     "metadata": {},
     "output_type": "execute_result"
    }
   ],
   "source": [
    "train_data[[\"click\",\"C16\"]].groupby(\"C16\").mean().sort_values('click',ascending=False)"
   ]
  },
  {
   "cell_type": "markdown",
   "metadata": {},
   "source": [
    "### Feature C18\n",
    "The category 0 has the max number of observations. However, the category 2 has the highest click through rate of 0.295. The category 0 has the second highest CTR of 0.15."
   ]
  },
  {
   "cell_type": "code",
   "execution_count": 22,
   "metadata": {},
   "outputs": [
    {
     "data": {
      "image/png": "[encoded data removed]",
      "text/plain": [
       "<Figure size 800x320 with 1 Axes>"
      ]
     },
     "metadata": {},
     "output_type": "display_data"
    }
   ],
   "source": [
    "figure(num=None, figsize=(10,4), dpi=80, facecolor='w', edgecolor='k')\n",
    "train_data.groupby(['C18'])['click'].agg('count').plot.bar()\n",
    "plt.show()"
   ]
  },
  {
   "cell_type": "code",
   "execution_count": 23,
   "metadata": {},
   "outputs": [
    {
     "data": {
      "text/html": [
       "<div>\n",
       "<style scoped>\n",
       "    .dataframe tbody tr th:only-of-type {\n",
       "        vertical-align: middle;\n",
       "    }\n",
       "\n",
       "    .dataframe tbody tr th {\n",
       "        vertical-align: top;\n",
       "    }\n",
       "\n",
       "    .dataframe thead th {\n",
       "        text-align: right;\n",
       "    }\n",
       "</style>\n",
       "<table border=\"1\" class=\"dataframe\">\n",
       "  <thead>\n",
       "    <tr style=\"text-align: right;\">\n",
       "      <th></th>\n",
       "      <th>click</th>\n",
       "    </tr>\n",
       "    <tr>\n",
       "      <th>C18</th>\n",
       "      <th></th>\n",
       "    </tr>\n",
       "  </thead>\n",
       "  <tbody>\n",
       "    <tr>\n",
       "      <th>2</th>\n",
       "      <td>0.295401</td>\n",
       "    </tr>\n",
       "    <tr>\n",
       "      <th>0</th>\n",
       "      <td>0.153568</td>\n",
       "    </tr>\n",
       "    <tr>\n",
       "      <th>3</th>\n",
       "      <td>0.152403</td>\n",
       "    </tr>\n",
       "    <tr>\n",
       "      <th>1</th>\n",
       "      <td>0.034212</td>\n",
       "    </tr>\n",
       "  </tbody>\n",
       "</table>\n",
       "</div>"
      ],
      "text/plain": [
       "        click\n",
       "C18          \n",
       "2    0.295401\n",
       "0    0.153568\n",
       "3    0.152403\n",
       "1    0.034212"
      ]
     },
     "execution_count": 23,
     "metadata": {},
     "output_type": "execute_result"
    }
   ],
   "source": [
    "train_data[[\"click\",\"C18\"]].groupby(\"C18\").mean().sort_values('click',ascending=False)"
   ]
  },
  {
   "cell_type": "markdown",
   "metadata": {},
   "source": [
    "### Feature Hour\n",
    "Splitting the feature hour into date and time helps in analyzing the click through rate on different days and at different times."
   ]
  },
  {
   "cell_type": "code",
   "execution_count": 24,
   "metadata": {},
   "outputs": [],
   "source": [
    "train_data['date'] = pd.to_datetime(train_data['hour'], format='%y%m%d%H').dt.strftime(\"%Y-%m-%d\")\n",
    "train_data['time'] = pd.to_datetime(train_data['hour'], format='%y%m%d%H').dt.strftime(\"%H\")"
   ]
  },
  {
   "cell_type": "markdown",
   "metadata": {},
   "source": [
    "### Time\n",
    "The below graph shows that the click through rate is the highest between 3 PM - 4 PM and the lowest between 8 AM - 9 AM. This shows that click through rate varies by time."
   ]
  },
  {
   "cell_type": "code",
   "execution_count": 25,
   "metadata": {},
   "outputs": [
    {
     "data": {
      "image/png": "[encoded data removed]",
      "text/plain": [
       "<Figure size 576x432 with 1 Axes>"
      ]
     },
     "metadata": {
      "needs_background": "light"
     },
     "output_type": "display_data"
    }
   ],
   "source": [
    "t = train_data[[\"click\",\"time\"]].groupby(\"time\").mean()\n",
    "plt.figure(figsize = (8,6))\n",
    "plt.plot(t.index,t['click'])\n",
    "plt.show()"
   ]
  },
  {
   "cell_type": "markdown",
   "metadata": {},
   "source": [
    "### Date\n",
    "The click through rate varies across different dates. The CTR is in the range 0.15 - 0.19. There is a peak at 2014-10-30. This is because the data for this date is only available for 00 hours. From the previous graph we can see that the CTR is usually high at 00 hours. The lower values of CTR during the day brings down the average CTR for that particular day. "
   ]
  },
  {
   "cell_type": "code",
   "execution_count": 26,
   "metadata": {},
   "outputs": [
    {
     "data": {
      "image/png": "[encoded data removed]",
      "text/plain": [
       "<Figure size 864x432 with 1 Axes>"
      ]
     },
     "metadata": {
      "needs_background": "light"
     },
     "output_type": "display_data"
    }
   ],
   "source": [
    "d = train_data[[\"click\",\"date\"]].groupby(\"date\").mean()\n",
    "plt.figure(figsize = (12,6))\n",
    "plt.plot(d.index,d['click'])\n",
    "plt.show()"
   ]
  },
  {
   "cell_type": "markdown",
   "metadata": {},
   "source": [
    "## Data Preparation\n",
    "-  The column 'id' is dropped from both the train and test dateset. The date and time features created above are also dropped form the training dataset. The int datatype feature 'hour' is used in the model.\n",
    "-  The columns with 'object' datatype are converted to numeric datatype."
   ]
  },
  {
   "cell_type": "code",
   "execution_count": 27,
   "metadata": {},
   "outputs": [],
   "source": [
    "test = test_data #To retain the original test data set"
   ]
  },
  {
   "cell_type": "code",
   "execution_count": 28,
   "metadata": {},
   "outputs": [],
   "source": [
    "train_data.drop(columns = ['id', 'date', 'time'], inplace = True)\n",
    "test_data.drop(columns = ['id'], inplace = True)"
   ]
  },
  {
   "cell_type": "code",
   "execution_count": 29,
   "metadata": {},
   "outputs": [],
   "source": [
    "for c in train_data.columns:\n",
    "    if(train_data[c].dtype == 'object'):\n",
    "        replace_map_comp = {}\n",
    "        train_labels = train_data[c].astype('category').cat.categories.tolist() #get unique categories from train dataset\n",
    "        test_labels = test_data[c].astype('category').cat.categories.tolist() #get unique categories from test dataset\n",
    "        labels = list(set(train_labels + test_labels)) #master data for unique categories from train and test dataset\n",
    "        replace_map_comp = {k: v for k,v in zip(labels,list(range(1,len(labels)+1)))} #for each category, assign a numeric value\n",
    "        train_data[c] = train_data[c].apply(lambda x: replace_map_comp.get(x,x)) #the object datatype is mapped to the numeric value from the previous step in train dataset\n",
    "        test_data[c] = test_data[c].apply(lambda x: replace_map_comp.get(x,x)) #the object datatype is mapped to the numeric value from the previous step in test dataset"
   ]
  },
  {
   "cell_type": "code",
   "execution_count": 30,
   "metadata": {},
   "outputs": [
    {
     "data": {
      "text/html": [
       "<div>\n",
       "<style scoped>\n",
       "    .dataframe tbody tr th:only-of-type {\n",
       "        vertical-align: middle;\n",
       "    }\n",
       "\n",
       "    .dataframe tbody tr th {\n",
       "        vertical-align: top;\n",
       "    }\n",
       "\n",
       "    .dataframe thead th {\n",
       "        text-align: right;\n",
       "    }\n",
       "</style>\n",
       "<table border=\"1\" class=\"dataframe\">\n",
       "  <thead>\n",
       "    <tr style=\"text-align: right;\">\n",
       "      <th></th>\n",
       "      <th>click</th>\n",
       "      <th>hour</th>\n",
       "      <th>C1</th>\n",
       "      <th>banner_pos</th>\n",
       "      <th>site_id</th>\n",
       "      <th>site_domain</th>\n",
       "      <th>site_category</th>\n",
       "      <th>app_id</th>\n",
       "      <th>app_domain</th>\n",
       "      <th>app_category</th>\n",
       "      <th>...</th>\n",
       "      <th>device_type</th>\n",
       "      <th>device_conn_type</th>\n",
       "      <th>C14</th>\n",
       "      <th>C15</th>\n",
       "      <th>C16</th>\n",
       "      <th>C17</th>\n",
       "      <th>C18</th>\n",
       "      <th>C19</th>\n",
       "      <th>C20</th>\n",
       "      <th>C21</th>\n",
       "    </tr>\n",
       "  </thead>\n",
       "  <tbody>\n",
       "    <tr>\n",
       "      <th>0</th>\n",
       "      <td>0</td>\n",
       "      <td>14102100</td>\n",
       "      <td>1005</td>\n",
       "      <td>0</td>\n",
       "      <td>89</td>\n",
       "      <td>916</td>\n",
       "      <td>13</td>\n",
       "      <td>557</td>\n",
       "      <td>42</td>\n",
       "      <td>6</td>\n",
       "      <td>...</td>\n",
       "      <td>1</td>\n",
       "      <td>2</td>\n",
       "      <td>20596</td>\n",
       "      <td>320</td>\n",
       "      <td>50</td>\n",
       "      <td>2161</td>\n",
       "      <td>0</td>\n",
       "      <td>35</td>\n",
       "      <td>100148</td>\n",
       "      <td>157</td>\n",
       "    </tr>\n",
       "    <tr>\n",
       "      <th>1</th>\n",
       "      <td>1</td>\n",
       "      <td>14102100</td>\n",
       "      <td>1005</td>\n",
       "      <td>0</td>\n",
       "      <td>2160</td>\n",
       "      <td>605</td>\n",
       "      <td>12</td>\n",
       "      <td>342</td>\n",
       "      <td>131</td>\n",
       "      <td>11</td>\n",
       "      <td>...</td>\n",
       "      <td>1</td>\n",
       "      <td>0</td>\n",
       "      <td>18993</td>\n",
       "      <td>320</td>\n",
       "      <td>50</td>\n",
       "      <td>2161</td>\n",
       "      <td>0</td>\n",
       "      <td>35</td>\n",
       "      <td>100034</td>\n",
       "      <td>157</td>\n",
       "    </tr>\n",
       "    <tr>\n",
       "      <th>2</th>\n",
       "      <td>0</td>\n",
       "      <td>14102100</td>\n",
       "      <td>1005</td>\n",
       "      <td>0</td>\n",
       "      <td>2160</td>\n",
       "      <td>605</td>\n",
       "      <td>12</td>\n",
       "      <td>1974</td>\n",
       "      <td>110</td>\n",
       "      <td>17</td>\n",
       "      <td>...</td>\n",
       "      <td>1</td>\n",
       "      <td>0</td>\n",
       "      <td>21611</td>\n",
       "      <td>320</td>\n",
       "      <td>50</td>\n",
       "      <td>2480</td>\n",
       "      <td>3</td>\n",
       "      <td>297</td>\n",
       "      <td>100111</td>\n",
       "      <td>61</td>\n",
       "    </tr>\n",
       "    <tr>\n",
       "      <th>3</th>\n",
       "      <td>0</td>\n",
       "      <td>14102100</td>\n",
       "      <td>1005</td>\n",
       "      <td>0</td>\n",
       "      <td>2160</td>\n",
       "      <td>605</td>\n",
       "      <td>12</td>\n",
       "      <td>355</td>\n",
       "      <td>120</td>\n",
       "      <td>17</td>\n",
       "      <td>...</td>\n",
       "      <td>1</td>\n",
       "      <td>0</td>\n",
       "      <td>4687</td>\n",
       "      <td>320</td>\n",
       "      <td>50</td>\n",
       "      <td>423</td>\n",
       "      <td>2</td>\n",
       "      <td>39</td>\n",
       "      <td>100148</td>\n",
       "      <td>32</td>\n",
       "    </tr>\n",
       "    <tr>\n",
       "      <th>4</th>\n",
       "      <td>0</td>\n",
       "      <td>14102100</td>\n",
       "      <td>1005</td>\n",
       "      <td>0</td>\n",
       "      <td>1953</td>\n",
       "      <td>598</td>\n",
       "      <td>2</td>\n",
       "      <td>557</td>\n",
       "      <td>42</td>\n",
       "      <td>6</td>\n",
       "      <td>...</td>\n",
       "      <td>1</td>\n",
       "      <td>2</td>\n",
       "      <td>15706</td>\n",
       "      <td>320</td>\n",
       "      <td>50</td>\n",
       "      <td>1722</td>\n",
       "      <td>0</td>\n",
       "      <td>35</td>\n",
       "      <td>100084</td>\n",
       "      <td>79</td>\n",
       "    </tr>\n",
       "  </tbody>\n",
       "</table>\n",
       "<p>5 rows × 23 columns</p>\n",
       "</div>"
      ],
      "text/plain": [
       "   click      hour    C1  banner_pos  site_id  site_domain  site_category  \\\n",
       "0      0  14102100  1005           0       89          916             13   \n",
       "1      1  14102100  1005           0     2160          605             12   \n",
       "2      0  14102100  1005           0     2160          605             12   \n",
       "3      0  14102100  1005           0     2160          605             12   \n",
       "4      0  14102100  1005           0     1953          598              2   \n",
       "\n",
       "   app_id  app_domain  app_category  ...  device_type  device_conn_type  \\\n",
       "0     557          42             6  ...            1                 2   \n",
       "1     342         131            11  ...            1                 0   \n",
       "2    1974         110            17  ...            1                 0   \n",
       "3     355         120            17  ...            1                 0   \n",
       "4     557          42             6  ...            1                 2   \n",
       "\n",
       "     C14  C15  C16   C17  C18  C19     C20  C21  \n",
       "0  20596  320   50  2161    0   35  100148  157  \n",
       "1  18993  320   50  2161    0   35  100034  157  \n",
       "2  21611  320   50  2480    3  297  100111   61  \n",
       "3   4687  320   50   423    2   39  100148   32  \n",
       "4  15706  320   50  1722    0   35  100084   79  \n",
       "\n",
       "[5 rows x 23 columns]"
      ]
     },
     "execution_count": 30,
     "metadata": {},
     "output_type": "execute_result"
    }
   ],
   "source": [
    "train_data.head()"
   ]
  },
  {
   "cell_type": "code",
   "execution_count": 31,
   "metadata": {},
   "outputs": [
    {
     "data": {
      "text/html": [
       "<div>\n",
       "<style scoped>\n",
       "    .dataframe tbody tr th:only-of-type {\n",
       "        vertical-align: middle;\n",
       "    }\n",
       "\n",
       "    .dataframe tbody tr th {\n",
       "        vertical-align: top;\n",
       "    }\n",
       "\n",
       "    .dataframe thead th {\n",
       "        text-align: right;\n",
       "    }\n",
       "</style>\n",
       "<table border=\"1\" class=\"dataframe\">\n",
       "  <thead>\n",
       "    <tr style=\"text-align: right;\">\n",
       "      <th></th>\n",
       "      <th>hour</th>\n",
       "      <th>C1</th>\n",
       "      <th>banner_pos</th>\n",
       "      <th>site_id</th>\n",
       "      <th>site_domain</th>\n",
       "      <th>site_category</th>\n",
       "      <th>app_id</th>\n",
       "      <th>app_domain</th>\n",
       "      <th>app_category</th>\n",
       "      <th>device_id</th>\n",
       "      <th>...</th>\n",
       "      <th>device_type</th>\n",
       "      <th>device_conn_type</th>\n",
       "      <th>C14</th>\n",
       "      <th>C15</th>\n",
       "      <th>C16</th>\n",
       "      <th>C17</th>\n",
       "      <th>C18</th>\n",
       "      <th>C19</th>\n",
       "      <th>C20</th>\n",
       "      <th>C21</th>\n",
       "    </tr>\n",
       "  </thead>\n",
       "  <tbody>\n",
       "    <tr>\n",
       "      <th>0</th>\n",
       "      <td>14103000</td>\n",
       "      <td>1002</td>\n",
       "      <td>0</td>\n",
       "      <td>2160</td>\n",
       "      <td>605</td>\n",
       "      <td>12</td>\n",
       "      <td>56</td>\n",
       "      <td>42</td>\n",
       "      <td>6</td>\n",
       "      <td>56789</td>\n",
       "      <td>...</td>\n",
       "      <td>0</td>\n",
       "      <td>0</td>\n",
       "      <td>23553</td>\n",
       "      <td>300</td>\n",
       "      <td>50</td>\n",
       "      <td>2699</td>\n",
       "      <td>0</td>\n",
       "      <td>163</td>\n",
       "      <td>-1</td>\n",
       "      <td>212</td>\n",
       "    </tr>\n",
       "    <tr>\n",
       "      <th>1</th>\n",
       "      <td>14103000</td>\n",
       "      <td>1005</td>\n",
       "      <td>1</td>\n",
       "      <td>1234</td>\n",
       "      <td>1458</td>\n",
       "      <td>13</td>\n",
       "      <td>557</td>\n",
       "      <td>42</td>\n",
       "      <td>6</td>\n",
       "      <td>31734</td>\n",
       "      <td>...</td>\n",
       "      <td>1</td>\n",
       "      <td>0</td>\n",
       "      <td>17614</td>\n",
       "      <td>320</td>\n",
       "      <td>50</td>\n",
       "      <td>1993</td>\n",
       "      <td>2</td>\n",
       "      <td>1063</td>\n",
       "      <td>-1</td>\n",
       "      <td>33</td>\n",
       "    </tr>\n",
       "    <tr>\n",
       "      <th>2</th>\n",
       "      <td>14103000</td>\n",
       "      <td>1005</td>\n",
       "      <td>0</td>\n",
       "      <td>2160</td>\n",
       "      <td>605</td>\n",
       "      <td>12</td>\n",
       "      <td>954</td>\n",
       "      <td>62</td>\n",
       "      <td>11</td>\n",
       "      <td>31734</td>\n",
       "      <td>...</td>\n",
       "      <td>1</td>\n",
       "      <td>0</td>\n",
       "      <td>23726</td>\n",
       "      <td>320</td>\n",
       "      <td>50</td>\n",
       "      <td>2717</td>\n",
       "      <td>2</td>\n",
       "      <td>47</td>\n",
       "      <td>-1</td>\n",
       "      <td>23</td>\n",
       "    </tr>\n",
       "    <tr>\n",
       "      <th>3</th>\n",
       "      <td>14103000</td>\n",
       "      <td>1005</td>\n",
       "      <td>0</td>\n",
       "      <td>1953</td>\n",
       "      <td>598</td>\n",
       "      <td>2</td>\n",
       "      <td>557</td>\n",
       "      <td>42</td>\n",
       "      <td>6</td>\n",
       "      <td>31734</td>\n",
       "      <td>...</td>\n",
       "      <td>1</td>\n",
       "      <td>0</td>\n",
       "      <td>15704</td>\n",
       "      <td>320</td>\n",
       "      <td>50</td>\n",
       "      <td>1722</td>\n",
       "      <td>0</td>\n",
       "      <td>35</td>\n",
       "      <td>100084</td>\n",
       "      <td>79</td>\n",
       "    </tr>\n",
       "    <tr>\n",
       "      <th>4</th>\n",
       "      <td>14103000</td>\n",
       "      <td>1005</td>\n",
       "      <td>0</td>\n",
       "      <td>570</td>\n",
       "      <td>428</td>\n",
       "      <td>18</td>\n",
       "      <td>557</td>\n",
       "      <td>42</td>\n",
       "      <td>6</td>\n",
       "      <td>31734</td>\n",
       "      <td>...</td>\n",
       "      <td>1</td>\n",
       "      <td>0</td>\n",
       "      <td>17239</td>\n",
       "      <td>320</td>\n",
       "      <td>50</td>\n",
       "      <td>1973</td>\n",
       "      <td>3</td>\n",
       "      <td>39</td>\n",
       "      <td>-1</td>\n",
       "      <td>23</td>\n",
       "    </tr>\n",
       "  </tbody>\n",
       "</table>\n",
       "<p>5 rows × 22 columns</p>\n",
       "</div>"
      ],
      "text/plain": [
       "       hour    C1  banner_pos  site_id  site_domain  site_category  app_id  \\\n",
       "0  14103000  1002           0     2160          605             12      56   \n",
       "1  14103000  1005           1     1234         1458             13     557   \n",
       "2  14103000  1005           0     2160          605             12     954   \n",
       "3  14103000  1005           0     1953          598              2     557   \n",
       "4  14103000  1005           0      570          428             18     557   \n",
       "\n",
       "   app_domain  app_category  device_id  ...  device_type  device_conn_type  \\\n",
       "0          42             6      56789  ...            0                 0   \n",
       "1          42             6      31734  ...            1                 0   \n",
       "2          62            11      31734  ...            1                 0   \n",
       "3          42             6      31734  ...            1                 0   \n",
       "4          42             6      31734  ...            1                 0   \n",
       "\n",
       "     C14  C15  C16   C17  C18   C19     C20  C21  \n",
       "0  23553  300   50  2699    0   163      -1  212  \n",
       "1  17614  320   50  1993    2  1063      -1   33  \n",
       "2  23726  320   50  2717    2    47      -1   23  \n",
       "3  15704  320   50  1722    0    35  100084   79  \n",
       "4  17239  320   50  1973    3    39      -1   23  \n",
       "\n",
       "[5 rows x 22 columns]"
      ]
     },
     "execution_count": 31,
     "metadata": {},
     "output_type": "execute_result"
    }
   ],
   "source": [
    "test_data.head()"
   ]
  },
  {
   "cell_type": "code",
   "execution_count": 32,
   "metadata": {},
   "outputs": [
    {
     "name": "stdout",
     "output_type": "stream",
     "text": [
      "<class 'pandas.core.frame.DataFrame'>\n",
      "RangeIndex: 843502 entries, 0 to 843501\n",
      "Data columns (total 23 columns):\n",
      "click               843502 non-null int64\n",
      "hour                843502 non-null int64\n",
      "C1                  843502 non-null int64\n",
      "banner_pos          843502 non-null int64\n",
      "site_id             843502 non-null int64\n",
      "site_domain         843502 non-null int64\n",
      "site_category       843502 non-null int64\n",
      "app_id              843502 non-null int64\n",
      "app_domain          843502 non-null int64\n",
      "app_category        843502 non-null int64\n",
      "device_id           843502 non-null int64\n",
      "device_ip           843502 non-null int64\n",
      "device_model        843502 non-null int64\n",
      "device_type         843502 non-null int64\n",
      "device_conn_type    843502 non-null int64\n",
      "C14                 843502 non-null int64\n",
      "C15                 843502 non-null int64\n",
      "C16                 843502 non-null int64\n",
      "C17                 843502 non-null int64\n",
      "C18                 843502 non-null int64\n",
      "C19                 843502 non-null int64\n",
      "C20                 843502 non-null int64\n",
      "C21                 843502 non-null int64\n",
      "dtypes: int64(23)\n",
      "memory usage: 148.0 MB\n"
     ]
    }
   ],
   "source": [
    "train_data.info() #all features are of type int"
   ]
  },
  {
   "cell_type": "code",
   "execution_count": 33,
   "metadata": {},
   "outputs": [
    {
     "name": "stdout",
     "output_type": "stream",
     "text": [
      "<class 'pandas.core.frame.DataFrame'>\n",
      "RangeIndex: 100000 entries, 0 to 99999\n",
      "Data columns (total 22 columns):\n",
      "hour                100000 non-null int64\n",
      "C1                  100000 non-null int64\n",
      "banner_pos          100000 non-null int64\n",
      "site_id             100000 non-null int64\n",
      "site_domain         100000 non-null int64\n",
      "site_category       100000 non-null int64\n",
      "app_id              100000 non-null int64\n",
      "app_domain          100000 non-null int64\n",
      "app_category        100000 non-null int64\n",
      "device_id           100000 non-null int64\n",
      "device_ip           100000 non-null int64\n",
      "device_model        100000 non-null int64\n",
      "device_type         100000 non-null int64\n",
      "device_conn_type    100000 non-null int64\n",
      "C14                 100000 non-null int64\n",
      "C15                 100000 non-null int64\n",
      "C16                 100000 non-null int64\n",
      "C17                 100000 non-null int64\n",
      "C18                 100000 non-null int64\n",
      "C19                 100000 non-null int64\n",
      "C20                 100000 non-null int64\n",
      "C21                 100000 non-null int64\n",
      "dtypes: int64(22)\n",
      "memory usage: 16.8 MB\n"
     ]
    }
   ],
   "source": [
    "test_data.info() #all features are of type int"
   ]
  },
  {
   "cell_type": "markdown",
   "metadata": {},
   "source": [
    "## Model Building\n",
    "-  Split the training dataset into train and test sets using train_test_split. Random_state (seed) is set as 0 so that every time the code is run, the data is split in the same way.\n",
    "-  Implemented multiple models like k-nearest neighbor, logistic regression, decision tree, random forest and gradient boosting. Compared the results of these different models to find out the model that best fits the dataset and generalizes well on test dataset.\n",
    "-  Used grid search for hyperparameter tuning to determine the optimal values of the model hyperparameters. Also used cross validation to assess how well the model generalizes on unseen data.\n",
    "-  The training dataset is unbalanced - approximately 87% of the data is clicked and only 13% not clicked. Analyzing only the accuracy metric to measure the performance of the model yields biased result. Therefore, used ROC AUC score as the performance measure for the models. Higher the AUC score, better is the model."
   ]
  },
  {
   "cell_type": "code",
   "execution_count": 34,
   "metadata": {},
   "outputs": [],
   "source": [
    "#Train dataset are split into X (independent features) and Y (target variable)\n",
    "X = train_data.drop(['click'], axis=1)\n",
    "Y = train_data['click']"
   ]
  },
  {
   "cell_type": "code",
   "execution_count": 35,
   "metadata": {},
   "outputs": [
    {
     "name": "stdout",
     "output_type": "stream",
     "text": [
      "Number transactions X_train dataset:  (632626, 22)\n",
      "Number transactions y_train dataset:  (632626,)\n",
      "Number transactions X_test dataset:  (210876, 22)\n",
      "Number transactions y_test dataset:  (210876,)\n"
     ]
    }
   ],
   "source": [
    "from sklearn.model_selection import train_test_split\n",
    "\n",
    "X_train, X_test, y_train, y_test = train_test_split(X, Y, shuffle = True, random_state = 0)\n",
    "\n",
    "print(\"Number transactions X_train dataset: \", X_train.shape)\n",
    "print(\"Number transactions y_train dataset: \", y_train.shape)\n",
    "print(\"Number transactions X_test dataset: \", X_test.shape)\n",
    "print(\"Number transactions y_test dataset: \", y_test.shape)"
   ]
  },
  {
   "cell_type": "code",
   "execution_count": 36,
   "metadata": {},
   "outputs": [],
   "source": [
    "from sklearn.metrics import roc_auc_score\n",
    "from sklearn.model_selection import GridSearchCV"
   ]
  },
  {
   "cell_type": "markdown",
   "metadata": {},
   "source": [
    "## K-Nearest Neighbor\n",
    "Hyperparameter - number of neighbors"
   ]
  },
  {
   "cell_type": "code",
   "execution_count": 37,
   "metadata": {},
   "outputs": [
    {
     "name": "stdout",
     "output_type": "stream",
     "text": [
      "Best parameters: {'n_neighbors': 20}\n",
      "Best cross-validation score: 0.83\n",
      "Test set score: 0.83\n",
      "Train ROC AUC score: 0.52\n",
      "Test ROC AUC score: 0.51 \n"
     ]
    }
   ],
   "source": [
    "from sklearn.neighbors import KNeighborsClassifier\n",
    "\n",
    "knn = KNeighborsClassifier()\n",
    "knn_classifier_param_grid = {'n_neighbors': [5, 10, 15, 20]}\n",
    "knn_classifier_grid_search = GridSearchCV(knn, knn_classifier_param_grid, cv=5, return_train_score=True,n_jobs=20)\n",
    "knn_classifier_grid_search.fit(X_train, y_train)\n",
    "\n",
    "print(\"Best parameters: {}\".format(knn_classifier_grid_search.best_params_))\n",
    "print(\"Best cross-validation score: {:.2f}\".format(knn_classifier_grid_search.best_score_))\n",
    "print(\"Test set score: {:.2f}\".format(knn_classifier_grid_search.score(X_test, y_test)))\n",
    "\n",
    "y_knn_predict = knn_classifier_grid_search.predict(X_test)\n",
    "y_knn_train_predict = knn_classifier_grid_search.predict(X_train)\n",
    "\n",
    "print('Train ROC AUC score: %.2f'%roc_auc_score(y_train, y_knn_train_predict))\n",
    "print('Test ROC AUC score: %.2f '%roc_auc_score(y_test, y_knn_predict))\n",
    "\n",
    "report_table1 = [['knn', knn_classifier_grid_search.best_params_, knn_classifier_grid_search.score(X_train, y_train), knn_classifier_grid_search.score(X_test, y_test), roc_auc_score(y_train, y_knn_train_predict), roc_auc_score(y_test, y_knn_predict) ]]"
   ]
  },
  {
   "cell_type": "markdown",
   "metadata": {},
   "source": [
    "## Logistic Regression\n",
    "Hyperparameters - penalty (norm function used to penalize), C (inverse of regularizaton strength)"
   ]
  },
  {
   "cell_type": "code",
   "execution_count": 38,
   "metadata": {},
   "outputs": [
    {
     "name": "stdout",
     "output_type": "stream",
     "text": [
      "Best parameters: {'C': 0.001, 'penalty': 'l2'}\n",
      "Best cross-validation score: 0.83\n",
      "Test set score: 0.83\n",
      "Train ROC AUC score: 0.50\n",
      "Test ROC AUC score: 0.50 \n"
     ]
    }
   ],
   "source": [
    "from sklearn.linear_model import LogisticRegression\n",
    "\n",
    "lreg = LogisticRegression()\n",
    "logreg_param_grid = {'C': [0.001, 0.01, 0.1, 1, 10, 100, 1000], 'penalty': ['l1', 'l2']}\n",
    "logreg_grid_search = GridSearchCV(lreg, logreg_param_grid, cv=5, return_train_score=True,n_jobs=20)\n",
    "logreg_grid_search.fit(X_train, y_train)\n",
    "\n",
    "print(\"Best parameters: {}\".format(logreg_grid_search.best_params_))\n",
    "print(\"Best cross-validation score: {:.2f}\".format(logreg_grid_search.best_score_))\n",
    "print(\"Test set score: {:.2f}\".format(logreg_grid_search.score(X_test, y_test)))\n",
    "\n",
    "y_logreg_predict = logreg_grid_search.predict(X_test)\n",
    "y_logreg_train_predict = logreg_grid_search.predict(X_train)\n",
    "print('Train ROC AUC score: %.2f'%roc_auc_score(y_train, y_logreg_train_predict))\n",
    "print('Test ROC AUC score: %.2f '%roc_auc_score(y_test, y_logreg_predict))\n",
    "\n",
    "report_table1 = report_table1 + [['Logistic Regression', logreg_grid_search.best_params_, logreg_grid_search.score(X_train, y_train), logreg_grid_search.score(X_test, y_test), roc_auc_score(y_train, y_logreg_train_predict), roc_auc_score(y_test, y_logreg_predict) ]]"
   ]
  },
  {
   "cell_type": "markdown",
   "metadata": {},
   "source": [
    "## Decision Tree\n",
    "Hyperparameters - maximum depth of the tree, random_state (seed)\n",
    "The hyperparameter 'Maximum depth of the tree' limits the number of nodes and helps in preventing overfitting"
   ]
  },
  {
   "cell_type": "code",
   "execution_count": 39,
   "metadata": {},
   "outputs": [
    {
     "name": "stdout",
     "output_type": "stream",
     "text": [
      "Best parameters: {'max_depth': 10, 'random_state': 0}\n",
      "Best cross-validation score: 0.83\n",
      "Test set score: 0.83\n",
      "Train ROC AUC score: 0.54\n",
      "Test ROC AUC score: 0.54 \n"
     ]
    }
   ],
   "source": [
    "from sklearn.tree import DecisionTreeClassifier\n",
    "\n",
    "dtree = DecisionTreeClassifier()\n",
    "d = np.arange(20)+1\n",
    "dtree_param_grid = {'max_depth': d, 'random_state': [0]}\n",
    "dtree_grid_search = GridSearchCV(dtree, dtree_param_grid, cv=5, return_train_score=True,n_jobs=20)\n",
    "dtree_grid_search.fit(X_train, y_train)\n",
    "\n",
    "print(\"Best parameters: {}\".format(dtree_grid_search.best_params_))\n",
    "print(\"Best cross-validation score: {:.2f}\".format(dtree_grid_search.best_score_))\n",
    "print(\"Test set score: {:.2f}\".format(dtree_grid_search.score(X_test, y_test)))\n",
    "\n",
    "y_dtree_predict = dtree_grid_search.predict(X_test)\n",
    "y_dtree_train_predict = dtree_grid_search.predict(X_train)\n",
    "print('Train ROC AUC score: %.2f'%roc_auc_score(y_train, y_dtree_train_predict))\n",
    "print('Test ROC AUC score: %.2f '%roc_auc_score(y_test, y_dtree_predict))\n",
    "\n",
    "report_table1 = report_table1 + [['Decision Tree', dtree_grid_search.best_params_, dtree_grid_search.score(X_train, y_train), dtree_grid_search.score(X_test, y_test), roc_auc_score(y_train, y_dtree_train_predict), roc_auc_score(y_test, y_dtree_predict) ]]"
   ]
  },
  {
   "cell_type": "markdown",
   "metadata": {},
   "source": [
    "## Random Forest\n",
    "Hyperparameters - n_estimators (number of trees in the forest), maximum depth and random state (seed)"
   ]
  },
  {
   "cell_type": "code",
   "execution_count": 40,
   "metadata": {},
   "outputs": [
    {
     "name": "stdout",
     "output_type": "stream",
     "text": [
      "Best parameters: {'max_depth': 15, 'n_estimators': 50, 'random_state': 0}\n",
      "Best cross-validation score: 0.83\n",
      "Test set score: 0.83\n",
      "Train ROC AUC score: 0.54\n",
      "Test ROC AUC score: 0.53 \n"
     ]
    }
   ],
   "source": [
    "from sklearn.ensemble import RandomForestClassifier\n",
    "\n",
    "rf = RandomForestClassifier()\n",
    "rf_param_grid = {'n_estimators': [5,10,30,50],\n",
    "                'max_depth': [3,6,9,12,15],\n",
    "                'random_state': [0]}\n",
    "\n",
    "rf_grid_search = GridSearchCV(rf, rf_param_grid, cv=5, return_train_score=True,n_jobs=20)\n",
    "rf_grid_search.fit(X_train, y_train)\n",
    "\n",
    "print(\"Best parameters: {}\".format(rf_grid_search.best_params_))\n",
    "print(\"Best cross-validation score: {:.2f}\".format(rf_grid_search.best_score_))\n",
    "print(\"Test set score: {:.2f}\".format(rf_grid_search.score(X_test, y_test)))\n",
    "\n",
    "y_rf_predict = rf_grid_search.predict(X_test)\n",
    "y_rf_train_predict = rf_grid_search.predict(X_train)\n",
    "print('Train ROC AUC score: %.2f'%roc_auc_score(y_train, y_rf_train_predict))\n",
    "print('Test ROC AUC score: %.2f '%roc_auc_score(y_test, y_rf_predict))\n",
    "\n",
    "report_table1 = report_table1 + [['Random Forest', rf_grid_search.best_params_, rf_grid_search.score(X_train, y_train), rf_grid_search.score(X_test, y_test), roc_auc_score(y_train, y_rf_train_predict), roc_auc_score(y_test, y_rf_predict) ]]"
   ]
  },
  {
   "cell_type": "markdown",
   "metadata": {},
   "source": [
    "## Gradient Boosting\n",
    "Hyperparameters - n_estimators (number of boosting stages), maximum depth, learning rate and random state (seed)"
   ]
  },
  {
   "cell_type": "code",
   "execution_count": 41,
   "metadata": {},
   "outputs": [
    {
     "name": "stdout",
     "output_type": "stream",
     "text": [
      "Best parameters: {'learning_rate': 0.5, 'max_depth': 6, 'n_estimators': 20, 'random_state': 0}\n",
      "Best cross-validation score: 0.83\n",
      "Test set score: 0.83\n",
      "Train ROC AUC score: 0.53\n",
      "Test ROC AUC score: 0.53 \n"
     ]
    }
   ],
   "source": [
    "from  sklearn.ensemble import GradientBoostingClassifier\n",
    "\n",
    "gbrt = GradientBoostingClassifier()\n",
    "gbrt_param_grid = {'n_estimators': [5,10,20],\n",
    "                   'max_depth': [3,6,9,12],\n",
    "                   'learning_rate': [.5, 1],\n",
    "                   'random_state': [0]}\n",
    "\n",
    "gbrt_grid_search = GridSearchCV(gbrt, gbrt_param_grid, cv=5, return_train_score=True,n_jobs=20)\n",
    "gbrt_grid_search.fit(X_train, y_train)\n",
    "\n",
    "print(\"Best parameters: {}\".format(gbrt_grid_search.best_params_))\n",
    "print(\"Best cross-validation score: {:.2f}\".format(gbrt_grid_search.best_score_))\n",
    "print(\"Test set score: {:.2f}\".format(gbrt_grid_search.score(X_test, y_test)))\n",
    "\n",
    "y_gbrt_predict = gbrt_grid_search.predict(X_test)\n",
    "y_gbrt_train_predict = gbrt_grid_search.predict(X_train)\n",
    "print('Train ROC AUC score: %.2f'%roc_auc_score(y_train, y_gbrt_train_predict))\n",
    "print('Test ROC AUC score: %.2f '%roc_auc_score(y_test, y_gbrt_predict))\n",
    "\n",
    "report_table1 = report_table1 + [['Gradient Boosting', gbrt_grid_search.best_params_, gbrt_grid_search.score(X_train, y_train), gbrt_grid_search.score(X_test, y_test), roc_auc_score(y_train, y_gbrt_train_predict), roc_auc_score(y_test, y_gbrt_predict) ]]"
   ]
  },
  {
   "cell_type": "markdown",
   "metadata": {},
   "source": [
    "## Summary of all the models"
   ]
  },
  {
   "cell_type": "code",
   "execution_count": 42,
   "metadata": {},
   "outputs": [
    {
     "data": {
      "text/html": [
       "<div>\n",
       "<style scoped>\n",
       "    .dataframe tbody tr th:only-of-type {\n",
       "        vertical-align: middle;\n",
       "    }\n",
       "\n",
       "    .dataframe tbody tr th {\n",
       "        vertical-align: top;\n",
       "    }\n",
       "\n",
       "    .dataframe thead th {\n",
       "        text-align: right;\n",
       "    }\n",
       "</style>\n",
       "<table border=\"1\" class=\"dataframe\">\n",
       "  <thead>\n",
       "    <tr style=\"text-align: right;\">\n",
       "      <th></th>\n",
       "      <th>Model name</th>\n",
       "      <th>Model parameter</th>\n",
       "      <th>Train accuracy</th>\n",
       "      <th>Test accuracy</th>\n",
       "      <th>Train ROC AUC score</th>\n",
       "      <th>Test ROC AUC score</th>\n",
       "    </tr>\n",
       "  </thead>\n",
       "  <tbody>\n",
       "    <tr>\n",
       "      <th>0</th>\n",
       "      <td>knn</td>\n",
       "      <td>{'n_neighbors': 20}</td>\n",
       "      <td>0.833149</td>\n",
       "      <td>0.828349</td>\n",
       "      <td>0.522738</td>\n",
       "      <td>0.514107</td>\n",
       "    </tr>\n",
       "    <tr>\n",
       "      <th>1</th>\n",
       "      <td>Logistic Regression</td>\n",
       "      <td>{'C': 0.001, 'penalty': 'l2'}</td>\n",
       "      <td>0.829855</td>\n",
       "      <td>0.829350</td>\n",
       "      <td>0.500000</td>\n",
       "      <td>0.500000</td>\n",
       "    </tr>\n",
       "    <tr>\n",
       "      <th>2</th>\n",
       "      <td>Decision Tree</td>\n",
       "      <td>{'max_depth': 10, 'random_state': 0}</td>\n",
       "      <td>0.835244</td>\n",
       "      <td>0.832575</td>\n",
       "      <td>0.539148</td>\n",
       "      <td>0.535238</td>\n",
       "    </tr>\n",
       "    <tr>\n",
       "      <th>3</th>\n",
       "      <td>Random Forest</td>\n",
       "      <td>{'max_depth': 15, 'n_estimators': 50, 'random_...</td>\n",
       "      <td>0.839937</td>\n",
       "      <td>0.834230</td>\n",
       "      <td>0.544542</td>\n",
       "      <td>0.534183</td>\n",
       "    </tr>\n",
       "    <tr>\n",
       "      <th>4</th>\n",
       "      <td>Gradient Boosting</td>\n",
       "      <td>{'learning_rate': 0.5, 'max_depth': 6, 'n_esti...</td>\n",
       "      <td>0.834967</td>\n",
       "      <td>0.833352</td>\n",
       "      <td>0.532910</td>\n",
       "      <td>0.531127</td>\n",
       "    </tr>\n",
       "  </tbody>\n",
       "</table>\n",
       "</div>"
      ],
      "text/plain": [
       "            Model name                                    Model parameter  \\\n",
       "0                  knn                                {'n_neighbors': 20}   \n",
       "1  Logistic Regression                      {'C': 0.001, 'penalty': 'l2'}   \n",
       "2        Decision Tree               {'max_depth': 10, 'random_state': 0}   \n",
       "3        Random Forest  {'max_depth': 15, 'n_estimators': 50, 'random_...   \n",
       "4    Gradient Boosting  {'learning_rate': 0.5, 'max_depth': 6, 'n_esti...   \n",
       "\n",
       "   Train accuracy  Test accuracy  Train ROC AUC score  Test ROC AUC score  \n",
       "0        0.833149       0.828349             0.522738            0.514107  \n",
       "1        0.829855       0.829350             0.500000            0.500000  \n",
       "2        0.835244       0.832575             0.539148            0.535238  \n",
       "3        0.839937       0.834230             0.544542            0.534183  \n",
       "4        0.834967       0.833352             0.532910            0.531127  "
      ]
     },
     "execution_count": 42,
     "metadata": {},
     "output_type": "execute_result"
    }
   ],
   "source": [
    "report1 = pd.DataFrame(report_table1,columns = ['Model name', 'Model parameter', 'Train accuracy', 'Test accuracy', 'Train ROC AUC score', 'Test ROC AUC score'])\n",
    "report1"
   ]
  },
  {
   "cell_type": "markdown",
   "metadata": {},
   "source": [
    "## Best Model\n",
    "Tree based models perform quite well in this case. Used Random Forest model with the best hyperparameters to understand the feature importance and making predictions:"
   ]
  },
  {
   "cell_type": "code",
   "execution_count": 43,
   "metadata": {},
   "outputs": [
    {
     "data": {
      "text/plain": [
       "RandomForestClassifier(bootstrap=True, class_weight=None, criterion='gini',\n",
       "            max_depth=9, max_features='auto', max_leaf_nodes=None,\n",
       "            min_impurity_decrease=0.0, min_impurity_split=None,\n",
       "            min_samples_leaf=1, min_samples_split=2,\n",
       "            min_weight_fraction_leaf=0.0, n_estimators=30, n_jobs=None,\n",
       "            oob_score=True, random_state=0, verbose=0, warm_start=False)"
      ]
     },
     "execution_count": 43,
     "metadata": {},
     "output_type": "execute_result"
    }
   ],
   "source": [
    "rf = RandomForestClassifier(n_estimators=30, max_depth=9, random_state=0, oob_score=True)\n",
    "rf.fit(X_train,y_train)"
   ]
  },
  {
   "cell_type": "markdown",
   "metadata": {},
   "source": [
    "### Feature Importance\n",
    "The most important feature is C16. Site related features are more important. Next are the app related features and finally device related features."
   ]
  },
  {
   "cell_type": "code",
   "execution_count": 44,
   "metadata": {},
   "outputs": [
    {
     "data": {
      "image/png": "[encoded data removed]",
      "text/plain": [
       "<Figure size 800x800 with 1 Axes>"
      ]
     },
     "metadata": {},
     "output_type": "display_data"
    }
   ],
   "source": [
    "import pandas\n",
    "pandas.set_option('display.max_columns', 10)\n",
    "pandas.set_option('display.width', 2)\n",
    "\n",
    "figure(num=None, figsize=(10, 10), dpi=80, facecolor='w', edgecolor='k')\n",
    "feat_importances = pandas.Series(rf.feature_importances_, index=X.columns)\n",
    "feat_importances.sort_values().plot(kind='barh')\n",
    "plt.show()"
   ]
  },
  {
   "cell_type": "markdown",
   "metadata": {},
   "source": [
    "## Predictions\n",
    "Used the Random Forest model to make predictions on the test dataset. Also found out the probability of prediction. Merged the results with the original test dataset and exported it to csv file."
   ]
  },
  {
   "cell_type": "code",
   "execution_count": 46,
   "metadata": {},
   "outputs": [
    {
     "name": "stdout",
     "output_type": "stream",
     "text": [
      "<class 'pandas.core.frame.DataFrame'>\n",
      "RangeIndex: 100000 entries, 0 to 99999\n",
      "Data columns (total 22 columns):\n",
      "hour                100000 non-null int64\n",
      "C1                  100000 non-null int64\n",
      "banner_pos          100000 non-null int64\n",
      "site_id             100000 non-null int64\n",
      "site_domain         100000 non-null int64\n",
      "site_category       100000 non-null int64\n",
      "app_id              100000 non-null int64\n",
      "app_domain          100000 non-null int64\n",
      "app_category        100000 non-null int64\n",
      "device_id           100000 non-null int64\n",
      "device_ip           100000 non-null int64\n",
      "device_model        100000 non-null int64\n",
      "device_type         100000 non-null int64\n",
      "device_conn_type    100000 non-null int64\n",
      "C14                 100000 non-null int64\n",
      "C15                 100000 non-null int64\n",
      "C16                 100000 non-null int64\n",
      "C17                 100000 non-null int64\n",
      "C18                 100000 non-null int64\n",
      "C19                 100000 non-null int64\n",
      "C20                 100000 non-null int64\n",
      "C21                 100000 non-null int64\n",
      "dtypes: int64(22)\n",
      "memory usage: 16.8 MB\n"
     ]
    }
   ],
   "source": [
    "test_data.info()"
   ]
  },
  {
   "cell_type": "code",
   "execution_count": 48,
   "metadata": {},
   "outputs": [],
   "source": [
    "predictions = rf.predict(test_data)\n",
    "probability = rf.predict_proba(test_data)\n",
    "\n",
    "y_test = pd.DataFrame({'Probability_Click_0':probability[:,0],'Probability_Click_1':probability[:,1]})\n",
    "y_test['click'] = predictions"
   ]
  },
  {
   "cell_type": "code",
   "execution_count": 49,
   "metadata": {},
   "outputs": [],
   "source": [
    "result = pd.merge(test, y_test, how = 'left', left_index = True, right_index = True)"
   ]
  },
  {
   "cell_type": "code",
   "execution_count": 50,
   "metadata": {},
   "outputs": [],
   "source": [
    "result.to_csv('Predictions.csv', sep=',', encoding='utf-8')"
   ]
  },
  {
   "cell_type": "code",
   "execution_count": null,
   "metadata": {},
   "outputs": [],
   "source": []
  }
 ],
 "metadata": {
  "kernelspec": {
   "display_name": "Python 3",
   "language": "python",
   "name": "python3"
  },
  "language_info": {
   "codemirror_mode": {
    "name": "ipython",
    "version": 3
   },
   "file_extension": ".py",
   "mimetype": "text/x-python",
   "name": "python",
   "nbconvert_exporter": "python",
   "pygments_lexer": "ipython3",
   "version": "3.6.6"
  }
 },
 "nbformat": 4,
 "nbformat_minor": 2
}
